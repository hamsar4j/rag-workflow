{
 "cells": [
  {
   "cell_type": "code",
   "execution_count": null,
   "metadata": {},
   "outputs": [],
   "source": [
    "from qdrant_client import QdrantClient, models\n",
    "from app.core.config import settings as config\n",
    "from app.utils.utils import split_docs\n",
    "from app.web_loader.bs_loader import load_web_docs\n",
    "from app.web_loader.bs_utils import urls\n",
    "from app.db.vector_store import VectorStore\n",
    "import os\n",
    "import pickle\n",
    "from tenacity import (\n",
    "    retry,\n",
    "    wait_exponential,\n",
    "    stop_after_attempt,\n",
    "    retry_if_exception_type,\n",
    ")\n",
    "import time\n",
    "import requests\n",
    "import numpy as np"
   ]
  },
  {
   "cell_type": "code",
   "execution_count": null,
   "metadata": {},
   "outputs": [],
   "source": [
    "client = QdrantClient(config.qdrant_url, api_key=config.qdrant_api_key)"
   ]
  },
  {
   "cell_type": "code",
   "execution_count": null,
   "metadata": {},
   "outputs": [],
   "source": [
    "client.create_collection(\n",
    "    collection_name=\"sutd\",\n",
    "    vectors_config=models.VectorParams(\n",
    "        size=config.embeddings_dim, distance=models.Distance.COSINE\n",
    "    ),\n",
    ")"
   ]
  },
  {
   "cell_type": "code",
   "execution_count": null,
   "metadata": {},
   "outputs": [],
   "source": [
    "# client.delete_collection(collection_name=\"sutd\")"
   ]
  },
  {
   "cell_type": "code",
   "execution_count": null,
   "metadata": {},
   "outputs": [],
   "source": [
    "client.get_collections()"
   ]
  },
  {
   "cell_type": "code",
   "execution_count": null,
   "metadata": {},
   "outputs": [],
   "source": [
    "CACHE_FILE = \"all_docs.pkl\"\n",
    "\n",
    "if os.path.exists(CACHE_FILE):\n",
    "    print(\"Loading cached documents...\")\n",
    "    with open(CACHE_FILE, \"rb\") as f:\n",
    "        all_docs = pickle.load(f)\n",
    "else:\n",
    "    all_docs = load_web_docs(urls)\n",
    "    print(\"Saving documents to cache...\")\n",
    "    with open(CACHE_FILE, \"wb\") as f:\n",
    "        pickle.dump(all_docs, f)"
   ]
  },
  {
   "cell_type": "code",
   "execution_count": null,
   "metadata": {},
   "outputs": [],
   "source": [
    "chunks = split_docs(all_docs)"
   ]
  },
  {
   "cell_type": "code",
   "execution_count": null,
   "metadata": {},
   "outputs": [],
   "source": [
    "print(len(chunks))\n",
    "print(chunks[20])"
   ]
  },
  {
   "cell_type": "code",
   "execution_count": null,
   "metadata": {},
   "outputs": [],
   "source": [
    "vector_store = VectorStore(config)\n",
    "embeddings = []"
   ]
  },
  {
   "cell_type": "code",
   "execution_count": null,
   "metadata": {},
   "outputs": [],
   "source": [
    "@retry(\n",
    "    retry=retry_if_exception_type((requests.exceptions.RequestException, Exception)),\n",
    "    wait=wait_exponential(multiplier=1, min=4, max=60),  # Exponential backoff\n",
    "    stop=stop_after_attempt(5),  # Max 5 attempts\n",
    ")\n",
    "def get_embedding_with_retry(text):\n",
    "    time.sleep(60 / 4500)  # Rate limit of 4500 requests per minute\n",
    "    return vector_store.get_embeddings(text)\n",
    "\n",
    "\n",
    "for i, chunk in enumerate(chunks):\n",
    "    try:\n",
    "        embedding = get_embedding_with_retry(chunk.text)\n",
    "        embeddings.append(embedding)\n",
    "\n",
    "        if i % 100 == 0:\n",
    "            print(f\"Processed {i}/{len(chunks)} chunks\")\n",
    "\n",
    "    except Exception as e:\n",
    "        print(f\"Failed after retries on chunk {i}: {str(e)}\")\n",
    "        embeddings.append(None)"
   ]
  },
  {
   "cell_type": "code",
   "execution_count": null,
   "metadata": {},
   "outputs": [],
   "source": [
    "print(embeddings[4])"
   ]
  },
  {
   "cell_type": "code",
   "execution_count": null,
   "metadata": {},
   "outputs": [],
   "source": [
    "EMBEDDINGS_CACHE_FILE = \"embeddings.pkl\"\n",
    "\n",
    "with open(EMBEDDINGS_CACHE_FILE, \"wb\") as f:\n",
    "    pickle.dump(embeddings, f)"
   ]
  },
  {
   "cell_type": "code",
   "execution_count": null,
   "metadata": {},
   "outputs": [],
   "source": [
    "EMBEDDINGS_CACHE_FILE = \"embeddings.pkl\"\n",
    "\n",
    "if os.path.exists(EMBEDDINGS_CACHE_FILE):\n",
    "    print(\"Loading cached embeddings...\")\n",
    "    with open(EMBEDDINGS_CACHE_FILE, \"rb\") as f:\n",
    "        embeddings = pickle.load(f)"
   ]
  },
  {
   "cell_type": "code",
   "execution_count": null,
   "metadata": {},
   "outputs": [],
   "source": [
    "document_ids = vector_store.add_documents(docs=chunks, embeddings=embeddings)"
   ]
  },
  {
   "cell_type": "code",
   "execution_count": null,
   "metadata": {},
   "outputs": [],
   "source": [
    "collection_info = vector_store.client.get_collection(vector_store.collection_name)\n",
    "print(f\"Collection info: {collection_info}\")\n",
    "\n",
    "# Count the number of points in the collection\n",
    "point_count = vector_store.client.count(vector_store.collection_name)\n",
    "print(f\"Number of documents in vector store: {point_count}\")"
   ]
  },
  {
   "cell_type": "code",
   "execution_count": null,
   "metadata": {},
   "outputs": [],
   "source": [
    "query = \"what is sutd?\"\n",
    "query_embedding = vector_store.get_embeddings(query)\n",
    "results = vector_store.client.query_points(\n",
    "    collection_name=vector_store.collection_name,\n",
    "    query=query_embedding,\n",
    "    limit=5,\n",
    ")\n",
    "print(results)"
   ]
  },
  {
   "cell_type": "code",
   "execution_count": null,
   "metadata": {},
   "outputs": [],
   "source": []
  }
 ],
 "metadata": {
  "kernelspec": {
   "display_name": ".venv",
   "language": "python",
   "name": "python3"
  },
  "language_info": {
   "codemirror_mode": {
    "name": "ipython",
    "version": 3
   },
   "file_extension": ".py",
   "mimetype": "text/x-python",
   "name": "python",
   "nbconvert_exporter": "python",
   "pygments_lexer": "ipython3",
   "version": "3.12.10"
  }
 },
 "nbformat": 4,
 "nbformat_minor": 2
}
