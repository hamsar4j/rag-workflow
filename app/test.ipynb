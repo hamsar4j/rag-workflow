{
 "cells": [
  {
   "cell_type": "code",
   "execution_count": 1,
   "metadata": {},
   "outputs": [],
   "source": [
    "from qdrant_client import QdrantClient, models\n",
    "from config import config\n",
    "\n",
    "client = QdrantClient(config.qdrant_url, api_key=config.qdrant_api_key)"
   ]
  },
  {
   "cell_type": "code",
   "execution_count": 2,
   "metadata": {},
   "outputs": [
    {
     "data": {
      "text/plain": [
       "True"
      ]
     },
     "execution_count": 2,
     "metadata": {},
     "output_type": "execute_result"
    }
   ],
   "source": [
    "client.create_collection(\n",
    "    collection_name=\"sutd\",\n",
    "    vectors_config=models.VectorParams(\n",
    "        size=config.embeddings_dim, distance=models.Distance.COSINE\n",
    "    ),\n",
    ")"
   ]
  },
  {
   "cell_type": "code",
   "execution_count": 3,
   "metadata": {},
   "outputs": [],
   "source": [
    "# client.delete_collection(collection_name=\"test\")"
   ]
  },
  {
   "cell_type": "code",
   "execution_count": 4,
   "metadata": {},
   "outputs": [
    {
     "data": {
      "text/plain": [
       "CollectionsResponse(collections=[CollectionDescription(name='sutd')])"
      ]
     },
     "execution_count": 4,
     "metadata": {},
     "output_type": "execute_result"
    }
   ],
   "source": [
    "client.get_collections()"
   ]
  },
  {
   "cell_type": "code",
   "execution_count": 5,
   "metadata": {},
   "outputs": [
    {
     "name": "stdout",
     "output_type": "stream",
     "text": [
      "Split documents into 1383 chunks.\n"
     ]
    }
   ],
   "source": [
    "from utils import split_docs\n",
    "from web_loader import load_web_docs, urls\n",
    "\n",
    "docs = load_web_docs(urls)\n",
    "chunks = split_docs(docs)"
   ]
  },
  {
   "cell_type": "code",
   "execution_count": 6,
   "metadata": {},
   "outputs": [
    {
     "name": "stdout",
     "output_type": "stream",
     "text": [
      "Document(text='egrity Institutional Review Board (IRB) MORE Faculty Library Design AI Innovation Design AI Innovation INNOVATION ECOSYSTEM campusX Educational technology Fabrication lab INNOVATION IN COMMUNITY STEAMunity INNOVATION IN EDUCATION daVinci@SUTD Experience STEAMxD Immersion Programme Design AI Enterpri', metadata={'source': 'doc_0'})\n"
     ]
    }
   ],
   "source": [
    "print(chunks[4])"
   ]
  },
  {
   "cell_type": "code",
   "execution_count": 7,
   "metadata": {},
   "outputs": [],
   "source": [
    "from vector_store import VectorStore\n",
    "from config import config\n",
    "\n",
    "vector_store = VectorStore(config)\n",
    "document_ids = vector_store.add_documents(docs=chunks)\n",
    "\n",
    "# print(document_ids[:3])"
   ]
  },
  {
   "cell_type": "code",
   "execution_count": 8,
   "metadata": {},
   "outputs": [
    {
     "name": "stdout",
     "output_type": "stream",
     "text": [
      "Collection info: status=<CollectionStatus.GREEN: 'green'> optimizer_status=<OptimizersStatusOneOf.OK: 'ok'> vectors_count=None indexed_vectors_count=0 points_count=1383 segments_count=2 config=CollectionConfig(params=CollectionParams(vectors=VectorParams(size=1024, distance=<Distance.COSINE: 'Cosine'>, hnsw_config=None, quantization_config=None, on_disk=None, datatype=None, multivector_config=None), shard_number=1, sharding_method=None, replication_factor=1, write_consistency_factor=1, read_fan_out_factor=None, on_disk_payload=True, sparse_vectors=None), hnsw_config=HnswConfig(m=16, ef_construct=100, full_scan_threshold=10000, max_indexing_threads=0, on_disk=False, payload_m=None), optimizer_config=OptimizersConfig(deleted_threshold=0.2, vacuum_min_vector_number=1000, default_segment_number=0, max_segment_size=None, memmap_threshold=None, indexing_threshold=20000, flush_interval_sec=5, max_optimization_threads=None), wal_config=WalConfig(wal_capacity_mb=32, wal_segments_ahead=0), quantization_config=None, strict_mode_config=StrictModeConfig(enabled=False, max_query_limit=None, max_timeout=None, unindexed_filtering_retrieve=None, unindexed_filtering_update=None, search_max_hnsw_ef=None, search_allow_exact=None, search_max_oversampling=None, upsert_max_batchsize=None, max_collection_vector_size_bytes=None, read_rate_limit=None, write_rate_limit=None, max_collection_payload_size_bytes=None, filter_max_conditions=None, condition_max_size=None)) payload_schema={}\n",
      "Number of documents in vector store: count=1383\n"
     ]
    }
   ],
   "source": [
    "collection_info = vector_store.client.get_collection(vector_store.collection_name)\n",
    "print(f\"Collection info: {collection_info}\")\n",
    "\n",
    "# Count the number of points in the collection\n",
    "point_count = vector_store.client.count(vector_store.collection_name)\n",
    "print(f\"Number of documents in vector store: {point_count}\")"
   ]
  },
  {
   "cell_type": "code",
   "execution_count": 9,
   "metadata": {},
   "outputs": [
    {
     "name": "stdout",
     "output_type": "stream",
     "text": [
      "points=[ScoredPoint(id=598, version=0, score=0.5820807, payload={'text': 'd a commitment to making a positive impact on society. SUTD is a small, tight-knit community of like-minded people where everyone knows everybody. Whenever I face a challenge or problem that I do not know how to resolve, there is always a friend of a friend who is an expert in it. At SUTD, everyone ', 'metadata': {'source': 'doc_24'}}, vector=None, shard_key=None, order_value=None), ScoredPoint(id=585, version=0, score=0.55525535, payload={'text': 'artnering with SUTD On this page Popular searches quick links Admissions Passionate about innovation and driving positive change? Excited to explore and engage with the world? At SUTD, we help you become the best version of yourself, transforming you into a design innovator and leader with our uniqu', 'metadata': {'source': 'doc_24'}}, vector=None, shard_key=None, order_value=None), ScoredPoint(id=591, version=0, score=0.54783577, payload={'text': 'most importantly, no fees! Why SUTD Design your future with SUTD At SUTD, we offer an unconventional approach that marries a one-of-a-kind curriculum and real-world experience, helping you find innovative solutions to everyday problems. Innovation at SUTD Unique curriculum Get an education grounded ', 'metadata': {'source': 'doc_24'}}, vector=None, shard_key=None, order_value=None), ScoredPoint(id=566, version=0, score=0.5440489, payload={'text': 'ed in engineering, architecture, entrepreneurship and more. Learn more Entrepreneurship programmes Unleash your entrepreneurial spirit At SUTD, we’re dedicated to uplifting today’s innovators into tomorrow’s pioneers. Discover a suite of support to jumpstart your start-up journey today. Learn more E', 'metadata': {'source': 'doc_23'}}, vector=None, shard_key=None, order_value=None), ScoredPoint(id=1016, version=0, score=0.5427733, payload={'text': 'ng with SUTD On this page Popular searches quick links About SUTD SUTD integrates design, AI and technology into a holistic, interdisciplinary education and research experience. This unique approach encourages our students to push the boundaries of innovating solutions to real-world problems. Our vi', 'metadata': {'source': 'doc_38'}}, vector=None, shard_key=None, order_value=None)]\n"
     ]
    }
   ],
   "source": [
    "query = \"what is sutd?\"\n",
    "query_embedding = vector_store.get_embeddings(query)\n",
    "results = vector_store.client.query_points(\n",
    "    collection_name=vector_store.collection_name,\n",
    "    query=query_embedding,\n",
    "    limit=5,\n",
    ")\n",
    "print(results)"
   ]
  }
 ],
 "metadata": {
  "kernelspec": {
   "display_name": ".venv",
   "language": "python",
   "name": "python3"
  },
  "language_info": {
   "codemirror_mode": {
    "name": "ipython",
    "version": 3
   },
   "file_extension": ".py",
   "mimetype": "text/x-python",
   "name": "python",
   "nbconvert_exporter": "python",
   "pygments_lexer": "ipython3",
   "version": "3.11.11"
  }
 },
 "nbformat": 4,
 "nbformat_minor": 2
}
