{
 "cells": [
  {
   "cell_type": "code",
   "execution_count": 1,
   "metadata": {},
   "outputs": [],
   "source": [
    "from langchain_ollama import OllamaEmbeddings\n",
    "\n",
    "embeddings = OllamaEmbeddings(model=\"llama3\")"
   ]
  },
  {
   "cell_type": "code",
   "execution_count": 2,
   "metadata": {},
   "outputs": [
    {
     "data": {
      "text/plain": [
       "CollectionsResponse(collections=[CollectionDescription(name='test')])"
      ]
     },
     "execution_count": 2,
     "metadata": {},
     "output_type": "execute_result"
    }
   ],
   "source": [
    "from qdrant_client import QdrantClient, models\n",
    "\n",
    "client = QdrantClient(url=\"http://localhost:6333\")\n",
    "\n",
    "client.create_collection(\n",
    "    collection_name=\"test\",\n",
    "    vectors_config=models.VectorParams(size=4096, distance=models.Distance.COSINE),\n",
    ")\n",
    "\n",
    "# client.delete_collection(collection_name=\"test\")\n",
    "\n",
    "client.get_collections()"
   ]
  },
  {
   "cell_type": "code",
   "execution_count": 3,
   "metadata": {},
   "outputs": [],
   "source": [
    "from langchain.document_loaders import SeleniumURLLoader\n",
    "import asyncio\n",
    "\n",
    "urls = [\n",
    "    \"https://www.sutd.edu.sg/\",\n",
    "    \"https://www.sutd.edu.sg/education\",\n",
    "    \"https://www.sutd.edu.sg/research\",\n",
    "    \"https://www.sutd.edu.sg/innovation\",\n",
    "    \"https://www.sutd.edu.sg/enterprise\",\n",
    "    \"https://www.sutd.edu.sg/admissions\",\n",
    "    \"https://www.sutd.edu.sg/campus-life\",\n",
    "    \"https://www.sutd.edu.sg/about\",\n",
    "    \"https://www.sutd.edu.sg/about/people/board-of-trustees/\",\n",
    "]\n",
    "\n",
    "\n",
    "def load_web_docs(urls):\n",
    "    loader = SeleniumURLLoader(\n",
    "        urls=(urls),\n",
    "        headless=True,\n",
    "    )\n",
    "    docs = loader.load()\n",
    "    return docs"
   ]
  },
  {
   "cell_type": "code",
   "execution_count": 4,
   "metadata": {},
   "outputs": [
    {
     "name": "stdout",
     "output_type": "stream",
     "text": [
      "Split blog post into 44 sub-documents.\n"
     ]
    }
   ],
   "source": [
    "from utils import split_docs\n",
    "\n",
    "docs = load_web_docs(urls)\n",
    "chunks = split_docs(docs)"
   ]
  },
  {
   "cell_type": "code",
   "execution_count": 5,
   "metadata": {},
   "outputs": [
    {
     "name": "stdout",
     "output_type": "stream",
     "text": [
      "['e6909b0dc30c41deac1eac98e13e27e2', '938b9714844c45f983cbd8f20939cbe6', '42c9cf1c26f94b8a80c56d0de08d6d44']\n"
     ]
    }
   ],
   "source": [
    "from vector_store import VectorStore\n",
    "from config import config\n",
    "\n",
    "vector_store = VectorStore(config)\n",
    "document_ids = vector_store.add_documents(documents=chunks)\n",
    "\n",
    "print(document_ids[:3])"
   ]
  }
 ],
 "metadata": {
  "kernelspec": {
   "display_name": ".venv",
   "language": "python",
   "name": "python3"
  },
  "language_info": {
   "codemirror_mode": {
    "name": "ipython",
    "version": 3
   },
   "file_extension": ".py",
   "mimetype": "text/x-python",
   "name": "python",
   "nbconvert_exporter": "python",
   "pygments_lexer": "ipython3",
   "version": "3.11.9"
  }
 },
 "nbformat": 4,
 "nbformat_minor": 2
}
