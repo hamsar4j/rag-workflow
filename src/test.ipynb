{
 "cells": [
  {
   "cell_type": "code",
   "execution_count": null,
   "metadata": {},
   "outputs": [
    {
     "data": {
      "text/plain": [
       "CollectionsResponse(collections=[CollectionDescription(name='test')])"
      ]
     },
     "execution_count": 1,
     "metadata": {},
     "output_type": "execute_result"
    }
   ],
   "source": [
    "from qdrant_client import QdrantClient, models\n",
    "\n",
    "client = QdrantClient(url=\"http://localhost:6333\")\n",
    "\n",
    "# client.create_collection(\n",
    "#     collection_name=\"test\",\n",
    "#     vectors_config=models.VectorParams(size=768, distance=models.Distance.COSINE),\n",
    "# )\n",
    "\n",
    "# client.delete_collection(collection_name=\"test\")\n",
    "\n",
    "client.get_collections()"
   ]
  },
  {
   "cell_type": "code",
   "execution_count": 2,
   "metadata": {},
   "outputs": [],
   "source": [
    "urls = [\n",
    "    \"https://www.sutd.edu.sg/\",\n",
    "    \"https://www.sutd.edu.sg/education\",\n",
    "    \"https://www.sutd.edu.sg/research\",\n",
    "    \"https://www.sutd.edu.sg/innovation\",\n",
    "    \"https://www.sutd.edu.sg/enterprise\",\n",
    "    \"https://www.sutd.edu.sg/admissions\",\n",
    "    \"https://www.sutd.edu.sg/campus-life\",\n",
    "    \"https://www.sutd.edu.sg/about\",\n",
    "    \"https://www.sutd.edu.sg/about/people/board-of-trustees/\",\n",
    "]"
   ]
  },
  {
   "cell_type": "code",
   "execution_count": 3,
   "metadata": {},
   "outputs": [
    {
     "name": "stdout",
     "output_type": "stream",
     "text": [
      "Split documents into 70 chunks.\n"
     ]
    }
   ],
   "source": [
    "from utils import split_docs\n",
    "from web_loader import load_web_docs\n",
    "\n",
    "docs = load_web_docs(urls)\n",
    "chunks = split_docs(docs)"
   ]
  },
  {
   "cell_type": "code",
   "execution_count": 4,
   "metadata": {},
   "outputs": [
    {
     "name": "stdout",
     "output_type": "stream",
     "text": [
      "Document(text=' Reimagining our innovation Ensuring continuous innovation through design, AI and technology Enhancing our enterprises Keeping enterprises ahead of the game with design, AI and technology Smarter designs for a better world Explore our gallery of student and research projects steeped in Design, AI, and Technology. 13 Nov 2024 Sustainability winner of the James Dyson Award 2024 – airXeed Radiosonde A Living Organism: Design for the End of the World Latest highlights Get up to speed on everything important that’s happening in SUTD. Events See all 26 Feb 2025 Network optimization and platform pricing in coupled energy and transportation systems 2:00 pm – 3:00 pm SUTD Data Analytics Lab (Building 1, Level 6, Room 1.610) 23 Feb 2025 SUTD Open House 2025 10:30 am – 5:00 pm SUTD, 8 Somapah Road, Singapore 487372 19 Feb 2025 Theatre in the City: The Role of the Arts in Urban Communities 11:00 am – 12:00 pm SUTD Think Tank 21 (Building 2 Level 3) Events See all 26 Feb 2025 Network optimization a', metadata={'source': 'doc_0'})\n"
     ]
    }
   ],
   "source": [
    "print(chunks[4])"
   ]
  },
  {
   "cell_type": "code",
   "execution_count": 5,
   "metadata": {},
   "outputs": [
    {
     "name": "stdout",
     "output_type": "stream",
     "text": [
      "Input text: Home - Singapore University of Technology and Desi...\n",
      "Embedding length: 768\n",
      "Input text: egrity Institutional Review Board (IRB) MORE Facul...\n",
      "Embedding length: 768\n",
      "Input text: ion centre F&B and services Library About About OV...\n",
      "Embedding length: 768\n",
      "Input text:  leaders and innovators of tomorrow 91.5% A vast m...\n",
      "Embedding length: 768\n",
      "Input text:  Reimagining our innovation Ensuring continuous in...\n",
      "Embedding length: 768\n",
      "Input text: ingapore 487372 19 Feb 2025 Theatre in the City: T...\n",
      "Embedding length: 768\n",
      "Input text: ments See all 21 Nov 2024 SUTD faculty recognised ...\n",
      "Embedding length: 768\n",
      "Input text: nkedIn TikTok Instagram Contact Us Whistleblowing ...\n",
      "Embedding length: 768\n",
      "Input text: Education - Singapore University of Technology and...\n",
      "Embedding length: 768\n",
      "Input text: rd (IRB) MORE Faculty Library Design AI Innovation...\n",
      "Embedding length: 768\n",
      "Input text: rary About About OVERVIEW Design AI At a glance Di...\n",
      "Embedding length: 768\n",
      "Input text: d based on an interdisciplinary learning approach....\n",
      "Embedding length: 768\n",
      "Input text:  products that transcend traditional disciplines. ...\n",
      "Embedding length: 768\n",
      "Input text: collaborative environment. Learn more Graduate Be ...\n",
      "Embedding length: 768\n",
      "Input text:  the Engineering Accreditation Board (EAB) and the...\n",
      "Embedding length: 768\n",
      "Input text:  We use cookies to ensure you get the best experie...\n",
      "Embedding length: 768\n",
      "Input text: Research - Singapore University of Technology and ...\n",
      "Embedding length: 768\n",
      "Input text:  (IRB) MORE Faculty Library Design AI Innovation D...\n",
      "Embedding length: 768\n",
      "Input text: ry About About OVERVIEW Design AI At a glance Dive...\n",
      "Embedding length: 768\n",
      "Input text: ence of twisting light 4 Dec 2024 Superconducting ...\n",
      "Embedding length: 768\n",
      "Input text: by research area, and find out which of their focu...\n",
      "Embedding length: 768\n",
      "Input text: e to you. Economic Development Board Industrial Po...\n",
      "Embedding length: 768\n",
      "Input text: des different grants to fund various projects and ...\n",
      "Embedding length: 768\n",
      "Input text: D’s students and researchers. Resources Explore ou...\n",
      "Embedding length: 768\n",
      "Input text: Design AI Innovation - Singapore University of Tec...\n",
      "Embedding length: 768\n",
      "Input text: B) MORE Faculty Library Design AI Innovation Desig...\n",
      "Embedding length: 768\n",
      "Input text: bout About OVERVIEW Design AI At a glance Diversit...\n",
      "Embedding length: 768\n",
      "Input text: ine The Future of Hospitality with AI\" competition...\n",
      "Embedding length: 768\n",
      "Input text: tion By bringing diverse minds together, we can po...\n",
      "Embedding length: 768\n",
      "Input text: +65 6303 6600 +65 6303 6600 Email us Directory Soc...\n",
      "Embedding length: 768\n",
      "Input text: Design AI Enterprise - Singapore University of Tec...\n",
      "Embedding length: 768\n",
      "Input text: y Institutional Review Board (IRB) MORE Faculty Li...\n",
      "Embedding length: 768\n",
      "Input text: entre F&B and services Library About About OVERVIE...\n",
      "Embedding length: 768\n",
      "Input text: dge research and a broad spectrum of multidiscipli...\n",
      "Embedding length: 768\n",
      "Input text: e Translational Research Lab Designing Today, For ...\n",
      "Embedding length: 768\n",
      "Input text: stomer and market validation, market strategies an...\n",
      "Embedding length: 768\n",
      "Input text: h us Take a virtual campus tour 8 Somapah Rd, Sing...\n",
      "Embedding length: 768\n",
      "Input text: Admissions - Singapore University of Technology an...\n",
      "Embedding length: 768\n",
      "Input text: oard (IRB) MORE Faculty Library Design AI Innovati...\n",
      "Embedding length: 768\n",
      "Input text: ibrary About About OVERVIEW Design AI At a glance ...\n",
      "Embedding length: 768\n",
      "Input text: y, and entrepreneurship with top minds and innovat...\n",
      "Embedding length: 768\n",
      "Input text: tive solutions to everyday problems. Innovation at...\n",
      "Embedding length: 768\n",
      "Input text: s who also possess the qualities that we value. Re...\n",
      "Embedding length: 768\n",
      "Input text: es. Chua Ming Yuan Master of Architecture student,...\n",
      "Embedding length: 768\n",
      "Input text: dagogy. It doesn't just teach you how to build but...\n",
      "Embedding length: 768\n",
      "Input text: the intersection of design and innovation. I'm not...\n",
      "Embedding length: 768\n",
      "Input text: ms & Conditions Privacy Statement Copyright © 2011...\n",
      "Embedding length: 768\n",
      "Input text: Campus life - Singapore University of Technology a...\n",
      "Embedding length: 768\n",
      "Input text:  Board (IRB) MORE Faculty Library Design AI Innova...\n",
      "Embedding length: 768\n",
      "Input text:  Library About About OVERVIEW Design AI At a glanc...\n",
      "Embedding length: 768\n",
      "Input text: overseas opportunities for our students to embark ...\n",
      "Embedding length: 768\n",
      "Input text: earned over their course of study in SUTD. Undergr...\n",
      "Embedding length: 768\n",
      "Input text: Undergraduates Graduates Non-graduating students S...\n",
      "Embedding length: 768\n",
      "Input text: ication during the housing application exercise, h...\n",
      "Embedding length: 768\n",
      "Input text:  the University. Visitors who are keen to stay on ...\n",
      "Embedding length: 768\n",
      "Input text:  with various facilities for you to study and coll...\n",
      "Embedding length: 768\n",
      "Input text: lp resources Get access free self-help and psychoe...\n",
      "Embedding length: 768\n",
      "Input text: 2011 – 2025 We use cookies to ensure you get the b...\n",
      "Embedding length: 768\n",
      "Input text: About - Singapore University of Technology and Des...\n",
      "Embedding length: 768\n",
      "Input text: RB) MORE Faculty Library Design AI Innovation Desi...\n",
      "Embedding length: 768\n",
      "Input text: About About OVERVIEW Design AI At a glance Diversi...\n",
      "Embedding length: 768\n",
      "Input text: ty Passion Collaboration Creativity PEOPLE Our SUT...\n",
      "Embedding length: 768\n",
      "Input text: re Partner up with SUTD Join us in becoming a driv...\n",
      "Embedding length: 768\n",
      "Input text: ia Facebook X YouTube LinkedIn TikTok Instagram Co...\n",
      "Embedding length: 768\n",
      "Input text: Board of Trustees - Singapore University of Techno...\n",
      "Embedding length: 768\n",
      "Input text: ional Review Board (IRB) MORE Faculty Library Desi...\n",
      "Embedding length: 768\n",
      "Input text: and services Library About About OVERVIEW Design A...\n",
      "Embedding length: 768\n",
      "Input text: l of Economics and Political Science in 1976. He j...\n",
      "Embedding length: 768\n",
      "Input text: ng Chairman, Proxtera Pte Ltd Ms LOH May Director,...\n",
      "Embedding length: 768\n",
      "Input text: lecting “I agree”, you consent to our use of cooki...\n",
      "Embedding length: 768\n"
     ]
    }
   ],
   "source": [
    "from vector_store import VectorStore\n",
    "from config import config\n",
    "\n",
    "vector_store = VectorStore(config)\n",
    "document_ids = vector_store.add_documents(docs=chunks)\n",
    "\n",
    "# print(document_ids[:3])"
   ]
  },
  {
   "cell_type": "code",
   "execution_count": 6,
   "metadata": {},
   "outputs": [
    {
     "name": "stdout",
     "output_type": "stream",
     "text": [
      "Collection info: status=<CollectionStatus.GREEN: 'green'> optimizer_status=<OptimizersStatusOneOf.OK: 'ok'> vectors_count=None indexed_vectors_count=0 points_count=70 segments_count=8 config=CollectionConfig(params=CollectionParams(vectors=VectorParams(size=768, distance=<Distance.COSINE: 'Cosine'>, hnsw_config=None, quantization_config=None, on_disk=None, datatype=None, multivector_config=None), shard_number=1, sharding_method=None, replication_factor=1, write_consistency_factor=1, read_fan_out_factor=None, on_disk_payload=True, sparse_vectors=None), hnsw_config=HnswConfig(m=16, ef_construct=100, full_scan_threshold=10000, max_indexing_threads=0, on_disk=False, payload_m=None), optimizer_config=OptimizersConfig(deleted_threshold=0.2, vacuum_min_vector_number=1000, default_segment_number=0, max_segment_size=None, memmap_threshold=None, indexing_threshold=20000, flush_interval_sec=5, max_optimization_threads=None), wal_config=WalConfig(wal_capacity_mb=32, wal_segments_ahead=0), quantization_config=None, strict_mode_config=StrictModeConfig(enabled=False, max_query_limit=None, max_timeout=None, unindexed_filtering_retrieve=None, unindexed_filtering_update=None, search_max_hnsw_ef=None, search_allow_exact=None, search_max_oversampling=None, upsert_max_batchsize=None, max_collection_vector_size_bytes=None, read_rate_limit=None, write_rate_limit=None, max_collection_payload_size_bytes=None, filter_max_conditions=None, condition_max_size=None)) payload_schema={}\n",
      "Number of documents in vector store: count=70\n"
     ]
    }
   ],
   "source": [
    "collection_info = vector_store.client.get_collection(vector_store.collection_name)\n",
    "print(f\"Collection info: {collection_info}\")\n",
    "\n",
    "# Count the number of points in the collection\n",
    "point_count = vector_store.client.count(vector_store.collection_name)\n",
    "print(f\"Number of documents in vector store: {point_count}\")"
   ]
  },
  {
   "cell_type": "code",
   "execution_count": 7,
   "metadata": {},
   "outputs": [
    {
     "name": "stdout",
     "output_type": "stream",
     "text": [
      "Input text: what is sutd?...\n",
      "Embedding length: 768\n",
      "points=[ScoredPoint(id=58, version=0, score=0.7053485, payload={'text': 'About - Singapore University of Technology and Design (SUTD) About Us | SUTD Academic calendar Alumni Faculty Partner with SUTD Resources Design AI Education Design AI Education STUDY Undergraduate Graduate Continuing education (SUTD Academy) 42 Singapore MORE Library Accreditation Undergraduate courses PILLARS, CLUSTERS & PROGRAMMES ASD Architecture and Sustainable Design DAI Design and Artificial Intelligence EPD Engineering Product Development ESD Engineering Systems and Design HASS Humanities, Arts and Social Sciences ISTD Information Systems Technology and Design SMT Science, Mathematics and Technology Design AI Research Design AI Research OVERVIEW Research news Research centres Research programmes and fellowship RESEARCH ADMINISTRATION Research integrity Institutional Review Board (IRB) MORE Faculty Library Design AI Innovation Design AI Innovation INNOVATION ECOSYSTEM campusX Educational technology Fabrication lab INNOVATION IN COMMUNITY STEAMunity INNOVATION IN EDUCATION daVinc', 'metadata': {'source': 'doc_7'}}, vector=None, shard_key=None, order_value=None), ScoredPoint(id=23, version=0, score=0.7053305, payload={'text': 'D’s students and researchers. Resources Explore our resources Library Discover resources and unearth more knowledge at our open-access technology and design library. See more Faculty Meet the brilliant people behind SUTD’s innovative research. Faculty directory Useful information Careers at SUTD Connect with us Take a virtual campus tour 8 Somapah Rd, Singapore 487372 +65 6303 6600 +65 6303 6600 Email us Directory Social Media Facebook X YouTube LinkedIn TikTok Instagram Contact Us Whistleblowing Policy Terms & Conditions Privacy Statement Copyright © 2011 – 2025 We use cookies to ensure you get the best experience on our website. By selecting “I agree”, you consent to our use of cookies.I agreeI decline', 'metadata': {'source': 'doc_2'}}, vector=None, shard_key=None, order_value=None), ScoredPoint(id=0, version=0, score=0.69532, payload={'text': 'Home - Singapore University of Technology and Design (SUTD) Singapore University of Technology and Design | SUTD Academic calendar Alumni Faculty Partner with SUTD Resources Design AI Education Design AI Education STUDY Undergraduate Graduate Continuing education (SUTD Academy) 42 Singapore MORE Library Accreditation Undergraduate courses PILLARS, CLUSTERS & PROGRAMMES ASD Architecture and Sustainable Design DAI Design and Artificial Intelligence EPD Engineering Product Development ESD Engineering Systems and Design HASS Humanities, Arts and Social Sciences ISTD Information Systems Technology and Design SMT Science, Mathematics and Technology Design AI Research Design AI Research OVERVIEW Research news Research centres Research programmes and fellowship RESEARCH ADMINISTRATION Research integrity Institutional Review Board (IRB) MORE Faculty Library Design AI Innovation Design AI Innovation INNOVATION ECOSYSTEM campusX Educational technology Fabrication lab INNOVATION IN COMMUNITY STEAM', 'metadata': {'source': 'doc_0'}}, vector=None, shard_key=None, order_value=None), ScoredPoint(id=64, version=0, score=0.69045746, payload={'text': 'Board of Trustees - Singapore University of Technology and Design (SUTD) Board of Trustees | SUTD Academic calendar Alumni Faculty Partner with SUTD Resources Design AI Education Design AI Education STUDY Undergraduate Graduate Continuing education (SUTD Academy) 42 Singapore MORE Library Accreditation Undergraduate courses PILLARS, CLUSTERS & PROGRAMMES ASD Architecture and Sustainable Design DAI Design and Artificial Intelligence EPD Engineering Product Development ESD Engineering Systems and Design HASS Humanities, Arts and Social Sciences ISTD Information Systems Technology and Design SMT Science, Mathematics and Technology Design AI Research Design AI Research OVERVIEW Research news Research centres Research programmes and fellowship RESEARCH ADMINISTRATION Research integrity Institutional Review Board (IRB) MORE Faculty Library Design AI Innovation Design AI Innovation INNOVATION ECOSYSTEM campusX Educational technology Fabrication lab INNOVATION IN COMMUNITY STEAMunity INNOVATIO', 'metadata': {'source': 'doc_8'}}, vector=None, shard_key=None, order_value=None), ScoredPoint(id=37, version=0, score=0.6744202, payload={'text': 'Admissions - Singapore University of Technology and Design (SUTD) Admissions | SUTD Academic calendar Alumni Faculty Partner with SUTD Resources Design AI Education Design AI Education STUDY Undergraduate Graduate Continuing education (SUTD Academy) 42 Singapore MORE Library Accreditation Undergraduate courses PILLARS, CLUSTERS & PROGRAMMES ASD Architecture and Sustainable Design DAI Design and Artificial Intelligence EPD Engineering Product Development ESD Engineering Systems and Design HASS Humanities, Arts and Social Sciences ISTD Information Systems Technology and Design SMT Science, Mathematics and Technology Design AI Research Design AI Research OVERVIEW Research news Research centres Research programmes and fellowship RESEARCH ADMINISTRATION Research integrity Institutional Review Board (IRB) MORE Faculty Library Design AI Innovation Design AI Innovation INNOVATION ECOSYSTEM campusX Educational technology Fabrication lab INNOVATION IN COMMUNITY STEAMunity INNOVATION IN EDUCATION', 'metadata': {'source': 'doc_5'}}, vector=None, shard_key=None, order_value=None)]\n"
     ]
    }
   ],
   "source": [
    "query = \"what is sutd?\"\n",
    "query_embedding = vector_store.get_embeddings(query)\n",
    "results = vector_store.client.query_points(\n",
    "    collection_name=vector_store.collection_name,\n",
    "    query=query_embedding,\n",
    "    limit=5,\n",
    ")\n",
    "print(results)"
   ]
  }
 ],
 "metadata": {
  "kernelspec": {
   "display_name": ".venv",
   "language": "python",
   "name": "python3"
  },
  "language_info": {
   "codemirror_mode": {
    "name": "ipython",
    "version": 3
   },
   "file_extension": ".py",
   "mimetype": "text/x-python",
   "name": "python",
   "nbconvert_exporter": "python",
   "pygments_lexer": "ipython3",
   "version": "3.11.9"
  }
 },
 "nbformat": 4,
 "nbformat_minor": 2
}
