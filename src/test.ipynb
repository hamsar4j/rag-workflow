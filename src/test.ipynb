{
 "cells": [
  {
   "cell_type": "code",
   "execution_count": 1,
   "metadata": {},
   "outputs": [],
   "source": [
    "from langchain_ollama import OllamaEmbeddings\n",
    "\n",
    "embeddings = OllamaEmbeddings(model=\"llama3\")"
   ]
  },
  {
   "cell_type": "code",
   "execution_count": 2,
   "metadata": {},
   "outputs": [
    {
     "data": {
      "text/plain": [
       "CollectionsResponse(collections=[CollectionDescription(name='test')])"
      ]
     },
     "execution_count": 2,
     "metadata": {},
     "output_type": "execute_result"
    }
   ],
   "source": [
    "from qdrant_client import QdrantClient, models\n",
    "\n",
    "client = QdrantClient(url=\"http://localhost:6333\")\n",
    "\n",
    "# client.create_collection(\n",
    "#     collection_name=\"test\",\n",
    "#     vectors_config=models.VectorParams(size=4096, distance=models.Distance.COSINE),\n",
    "# )\n",
    "\n",
    "# client.delete_collection(collection_name=\"test\")\n",
    "\n",
    "client.get_collections()"
   ]
  },
  {
   "cell_type": "code",
   "execution_count": 3,
   "metadata": {},
   "outputs": [],
   "source": [
    "urls = [\n",
    "    \"https://www.sutd.edu.sg/\",\n",
    "    \"https://www.sutd.edu.sg/education\",\n",
    "    \"https://www.sutd.edu.sg/research\",\n",
    "    \"https://www.sutd.edu.sg/innovation\",\n",
    "    \"https://www.sutd.edu.sg/enterprise\",\n",
    "    \"https://www.sutd.edu.sg/admissions\",\n",
    "    \"https://www.sutd.edu.sg/campus-life\",\n",
    "    \"https://www.sutd.edu.sg/about\",\n",
    "    \"https://www.sutd.edu.sg/about/people/board-of-trustees/\",\n",
    "]"
   ]
  },
  {
   "cell_type": "code",
   "execution_count": 6,
   "metadata": {},
   "outputs": [
    {
     "name": "stdout",
     "output_type": "stream",
     "text": [
      "Split blog post into 59 sub-documents.\n"
     ]
    }
   ],
   "source": [
    "from utils import split_docs\n",
    "from web_loader import load_web_docs\n",
    "\n",
    "docs = load_web_docs(urls)\n",
    "chunks = split_docs(docs)"
   ]
  },
  {
   "cell_type": "code",
   "execution_count": 7,
   "metadata": {},
   "outputs": [
    {
     "name": "stdout",
     "output_type": "stream",
     "text": [
      "['3a3cee884a2a4693a8547012097cef78', '2019639ba2d54c65a631e4c3fc71ce0a', 'f9d86f0bc93c4b278cce28b9ab1c0cb4']\n"
     ]
    }
   ],
   "source": [
    "from vector_store import VectorStore\n",
    "from config import config\n",
    "\n",
    "vector_store = VectorStore(config)\n",
    "document_ids = vector_store.add_documents(documents=chunks)\n",
    "\n",
    "print(document_ids[:3])"
   ]
  }
 ],
 "metadata": {
  "kernelspec": {
   "display_name": ".venv",
   "language": "python",
   "name": "python3"
  },
  "language_info": {
   "codemirror_mode": {
    "name": "ipython",
    "version": 3
   },
   "file_extension": ".py",
   "mimetype": "text/x-python",
   "name": "python",
   "nbconvert_exporter": "python",
   "pygments_lexer": "ipython3",
   "version": "3.11.9"
  }
 },
 "nbformat": 4,
 "nbformat_minor": 2
}
