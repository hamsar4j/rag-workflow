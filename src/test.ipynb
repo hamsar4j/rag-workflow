{
 "cells": [
  {
   "cell_type": "code",
   "execution_count": 1,
   "metadata": {},
   "outputs": [
    {
     "data": {
      "text/plain": [
       "CollectionsResponse(collections=[CollectionDescription(name='test')])"
      ]
     },
     "execution_count": 1,
     "metadata": {},
     "output_type": "execute_result"
    }
   ],
   "source": [
    "from qdrant_client import QdrantClient, models\n",
    "from config import config\n",
    "\n",
    "client = QdrantClient(config.qdrant_url, api_key=config.qdrant_api_key)\n",
    "\n",
    "client.create_collection(\n",
    "    collection_name=\"test\",\n",
    "    vectors_config=models.VectorParams(size=768, distance=models.Distance.COSINE),\n",
    ")\n",
    "\n",
    "# client.delete_collection(collection_name=\"test\")\n",
    "\n",
    "client.get_collections()"
   ]
  },
  {
   "cell_type": "code",
   "execution_count": 2,
   "metadata": {},
   "outputs": [],
   "source": [
    "urls = [\n",
    "    \"https://www.sutd.edu.sg/\",\n",
    "    \"https://www.sutd.edu.sg/education\",\n",
    "    \"https://www.sutd.edu.sg/research\",\n",
    "    \"https://www.sutd.edu.sg/innovation\",\n",
    "    \"https://www.sutd.edu.sg/enterprise\",\n",
    "    \"https://www.sutd.edu.sg/admissions\",\n",
    "    \"https://www.sutd.edu.sg/campus-life\",\n",
    "    \"https://www.sutd.edu.sg/about\",\n",
    "    \"https://www.sutd.edu.sg/about/people/board-of-trustees/\",\n",
    "]"
   ]
  },
  {
   "cell_type": "code",
   "execution_count": 3,
   "metadata": {},
   "outputs": [
    {
     "name": "stdout",
     "output_type": "stream",
     "text": [
      "Split documents into 210 chunks.\n"
     ]
    }
   ],
   "source": [
    "from utils import split_docs\n",
    "from web_loader import load_web_docs\n",
    "\n",
    "docs = load_web_docs(urls)\n",
    "chunks = split_docs(docs)"
   ]
  },
  {
   "cell_type": "code",
   "execution_count": 4,
   "metadata": {},
   "outputs": [
    {
     "name": "stdout",
     "output_type": "stream",
     "text": [
      "Document(text='unity INNOVATION IN EDUCATION daVinci@SUTD Experience STEAMxD Immersion Programme Design AI Enterprise Design AI Enterprise PARTNERING CORPORATES Research collaborations Technology licensing Design innovation consultancy Translational Research Lab (DesignZ) SUPPORTING ENTREPRENEURS Venture and entre', metadata={'source': 'doc_0'})\n"
     ]
    }
   ],
   "source": [
    "print(chunks[4])"
   ]
  },
  {
   "cell_type": "code",
   "execution_count": 5,
   "metadata": {},
   "outputs": [],
   "source": [
    "from vector_store import VectorStore\n",
    "from config import config\n",
    "\n",
    "vector_store = VectorStore(config)\n",
    "document_ids = vector_store.add_documents(docs=chunks)\n",
    "\n",
    "# print(document_ids[:3])"
   ]
  },
  {
   "cell_type": "code",
   "execution_count": 6,
   "metadata": {},
   "outputs": [
    {
     "name": "stdout",
     "output_type": "stream",
     "text": [
      "Collection info: status=<CollectionStatus.GREEN: 'green'> optimizer_status=<OptimizersStatusOneOf.OK: 'ok'> vectors_count=None indexed_vectors_count=0 points_count=210 segments_count=2 config=CollectionConfig(params=CollectionParams(vectors=VectorParams(size=768, distance=<Distance.COSINE: 'Cosine'>, hnsw_config=None, quantization_config=None, on_disk=None, datatype=None, multivector_config=None), shard_number=1, sharding_method=None, replication_factor=1, write_consistency_factor=1, read_fan_out_factor=None, on_disk_payload=True, sparse_vectors=None), hnsw_config=HnswConfig(m=16, ef_construct=100, full_scan_threshold=10000, max_indexing_threads=0, on_disk=False, payload_m=None), optimizer_config=OptimizersConfig(deleted_threshold=0.2, vacuum_min_vector_number=1000, default_segment_number=0, max_segment_size=None, memmap_threshold=None, indexing_threshold=20000, flush_interval_sec=5, max_optimization_threads=None), wal_config=WalConfig(wal_capacity_mb=32, wal_segments_ahead=0), quantization_config=None, strict_mode_config=StrictModeConfig(enabled=False, max_query_limit=None, max_timeout=None, unindexed_filtering_retrieve=None, unindexed_filtering_update=None, search_max_hnsw_ef=None, search_allow_exact=None, search_max_oversampling=None, upsert_max_batchsize=None, max_collection_vector_size_bytes=None, read_rate_limit=None, write_rate_limit=None, max_collection_payload_size_bytes=None, filter_max_conditions=None, condition_max_size=None)) payload_schema={}\n",
      "Number of documents in vector store: count=210\n"
     ]
    }
   ],
   "source": [
    "collection_info = vector_store.client.get_collection(vector_store.collection_name)\n",
    "print(f\"Collection info: {collection_info}\")\n",
    "\n",
    "# Count the number of points in the collection\n",
    "point_count = vector_store.client.count(vector_store.collection_name)\n",
    "print(f\"Number of documents in vector store: {point_count}\")"
   ]
  },
  {
   "cell_type": "code",
   "execution_count": 7,
   "metadata": {},
   "outputs": [
    {
     "name": "stdout",
     "output_type": "stream",
     "text": [
      "points=[ScoredPoint(id=175, version=0, score=0.73548484, payload={'text': 'About - Singapore University of Technology and Design (SUTD) About Us | SUTD Academic calendar Alumni Faculty Partner with SUTD Resources Design AI Education Design AI Education STUDY Undergraduate Graduate Continuing education (SUTD Academy) 42 Singapore MORE Library Accreditation Undergraduate cou', 'metadata': {'source': 'doc_7'}}, vector=None, shard_key=None, order_value=None), ScoredPoint(id=47, version=0, score=0.7122356, payload={'text': 'Research - Singapore University of Technology and Design (SUTD) Research | SUTD Academic calendar Alumni Faculty Partner with SUTD Resources Design AI Education Design AI Education STUDY Undergraduate Graduate Continuing education (SUTD Academy) 42 Singapore MORE Library Accreditation Undergraduate ', 'metadata': {'source': 'doc_2'}}, vector=None, shard_key=None, order_value=None), ScoredPoint(id=112, version=0, score=0.7084811, payload={'text': 'Admissions - Singapore University of Technology and Design (SUTD) Admissions | SUTD Academic calendar Alumni Faculty Partner with SUTD Resources Design AI Education Design AI Education STUDY Undergraduate Graduate Continuing education (SUTD Academy) 42 Singapore MORE Library Accreditation Undergradu', 'metadata': {'source': 'doc_5'}}, vector=None, shard_key=None, order_value=None), ScoredPoint(id=64, version=0, score=0.7033364, payload={'text': 'SUTD). Learn more TL@SUTD Seed Research Programme Established by the Ministry of Defence (MINDEF) and SUTD, Temasek Laboratories @ Singapore University of Technology and Design (TL@SUTD) undertakes cutting-edge R&D of defence and security applications, while empowering technical and human talent cap', 'metadata': {'source': 'doc_2'}}, vector=None, shard_key=None, order_value=None), ScoredPoint(id=193, version=0, score=0.70293486, payload={'text': 'Board of Trustees - Singapore University of Technology and Design (SUTD) Board of Trustees | SUTD Academic calendar Alumni Faculty Partner with SUTD Resources Design AI Education Design AI Education STUDY Undergraduate Graduate Continuing education (SUTD Academy) 42 Singapore MORE Library Accreditat', 'metadata': {'source': 'doc_8'}}, vector=None, shard_key=None, order_value=None)]\n"
     ]
    }
   ],
   "source": [
    "query = \"what is sutd?\"\n",
    "query_embedding = vector_store.get_embeddings(query)\n",
    "results = vector_store.client.query_points(\n",
    "    collection_name=vector_store.collection_name,\n",
    "    query=query_embedding,\n",
    "    limit=5,\n",
    ")\n",
    "print(results)"
   ]
  }
 ],
 "metadata": {
  "kernelspec": {
   "display_name": ".venv",
   "language": "python",
   "name": "python3"
  },
  "language_info": {
   "codemirror_mode": {
    "name": "ipython",
    "version": 3
   },
   "file_extension": ".py",
   "mimetype": "text/x-python",
   "name": "python",
   "nbconvert_exporter": "python",
   "pygments_lexer": "ipython3",
   "version": "3.11.9"
  }
 },
 "nbformat": 4,
 "nbformat_minor": 2
}
