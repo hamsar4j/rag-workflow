{
 "cells": [
  {
   "cell_type": "code",
   "execution_count": null,
   "metadata": {},
   "outputs": [],
   "source": [
    "from qdrant_client import QdrantClient, models\n",
    "from app.core.config import settings as config\n",
    "from app.utils.utils import split_docs\n",
    "from app.web_loader.bs_loader import load_web_docs\n",
    "from app.web_loader.bs_utils import urls\n",
    "from app.db.vector_store import VectorStore\n",
    "import os\n",
    "import pickle\n",
    "from tenacity import (\n",
    "    retry,\n",
    "    wait_exponential,\n",
    "    stop_after_attempt,\n",
    "    retry_if_exception_type,\n",
    ")\n",
    "import time\n",
    "import requests"
   ]
  },
  {
   "cell_type": "code",
   "execution_count": 2,
   "metadata": {},
   "outputs": [],
   "source": [
    "client = QdrantClient(config.qdrant_url, api_key=config.qdrant_api_key)"
   ]
  },
  {
   "cell_type": "code",
   "execution_count": 3,
   "metadata": {},
   "outputs": [
    {
     "data": {
      "text/plain": [
       "True"
      ]
     },
     "execution_count": 3,
     "metadata": {},
     "output_type": "execute_result"
    }
   ],
   "source": [
    "client.create_collection(\n",
    "    collection_name=\"sutd\",\n",
    "    vectors_config=models.VectorParams(\n",
    "        size=config.embeddings_dim, distance=models.Distance.COSINE\n",
    "    ),\n",
    ")"
   ]
  },
  {
   "cell_type": "code",
   "execution_count": null,
   "metadata": {},
   "outputs": [],
   "source": [
    "# client.delete_collection(collection_name=\"sutd\")"
   ]
  },
  {
   "cell_type": "code",
   "execution_count": 4,
   "metadata": {},
   "outputs": [
    {
     "data": {
      "text/plain": [
       "CollectionsResponse(collections=[CollectionDescription(name='sutd')])"
      ]
     },
     "execution_count": 4,
     "metadata": {},
     "output_type": "execute_result"
    }
   ],
   "source": [
    "client.get_collections()"
   ]
  },
  {
   "cell_type": "code",
   "execution_count": 9,
   "metadata": {},
   "outputs": [
    {
     "name": "stdout",
     "output_type": "stream",
     "text": [
      "Loading cached documents...\n"
     ]
    }
   ],
   "source": [
    "CACHE_FILE = \"all_docs.pkl\"\n",
    "\n",
    "if os.path.exists(CACHE_FILE):\n",
    "    print(\"Loading cached documents...\")\n",
    "    with open(CACHE_FILE, \"rb\") as f:\n",
    "        all_docs = pickle.load(f)\n",
    "else:\n",
    "    all_docs = load_web_docs(urls)\n",
    "    print(\"Saving documents to cache...\")\n",
    "    with open(CACHE_FILE, \"wb\") as f:\n",
    "        pickle.dump(all_docs, f)"
   ]
  },
  {
   "cell_type": "code",
   "execution_count": 10,
   "metadata": {},
   "outputs": [],
   "source": [
    "chunks = split_docs(all_docs)"
   ]
  },
  {
   "cell_type": "code",
   "execution_count": 11,
   "metadata": {},
   "outputs": [
    {
     "name": "stdout",
     "output_type": "stream",
     "text": [
      "1008\n",
      "Document(text='ousing Sports and recreation centre F&B and services Library About About OVERVIEW Design AI At a glance Diversity and inclusion Sustainability PEOPLE Leadership Board of Trustees President Emeritus Professorships Faculty MORE Happenings Careers at SUTD Partnering with SUTD On this page Popular searches quick links Discover SUTD The world’s first Design AI university Innovation @ SUTD AirXeed radiosonde AI @ SUTD Mustango – DALL-E for music Discover SUTD The world’s first Design AI university Pla', metadata={'source': 'https://www.sutd.edu.sg/'})\n"
     ]
    }
   ],
   "source": [
    "print(len(chunks))\n",
    "print(chunks[4])"
   ]
  },
  {
   "cell_type": "code",
   "execution_count": 12,
   "metadata": {},
   "outputs": [],
   "source": [
    "vector_store = VectorStore(config)"
   ]
  },
  {
   "cell_type": "code",
   "execution_count": null,
   "metadata": {},
   "outputs": [],
   "source": [
    "@retry(\n",
    "    retry=retry_if_exception_type((requests.exceptions.RequestException, Exception)),\n",
    "    wait=wait_exponential(multiplier=1, min=4, max=60),  # Exponential backoff\n",
    "    stop=stop_after_attempt(5),  # Max 5 attempts\n",
    ")\n",
    "def get_embedding_with_retry(text):\n",
    "    time.sleep(60 / 1500)\n",
    "    return vector_store.get_embeddings(text)\n",
    "\n",
    "\n",
    "embeddings = []\n",
    "for i, chunk in enumerate(chunks):\n",
    "    try:\n",
    "        embedding = get_embedding_with_retry(chunk.text)\n",
    "        embeddings.append(embedding)\n",
    "\n",
    "        if i % 100 == 0:\n",
    "            print(f\"Processed {i}/{len(chunks)} chunks\")\n",
    "\n",
    "    except Exception as e:\n",
    "        print(f\"Failed after retries on chunk {i}: {str(e)}\")\n",
    "        embeddings.append(None)\n",
    "\n",
    "print(embeddings[0])"
   ]
  },
  {
   "cell_type": "code",
   "execution_count": null,
   "metadata": {},
   "outputs": [],
   "source": [
    "EMBEDDINGS_CACHE_FILE = \"embeddings.pkl\"\n",
    "\n",
    "with open(EMBEDDINGS_CACHE_FILE, \"wb\") as f:\n",
    "    pickle.dump(embeddings, f)"
   ]
  },
  {
   "cell_type": "code",
   "execution_count": 5,
   "metadata": {},
   "outputs": [
    {
     "name": "stdout",
     "output_type": "stream",
     "text": [
      "Loading cached embeddings...\n"
     ]
    }
   ],
   "source": [
    "EMBEDDINGS_CACHE_FILE = \"embeddings.pkl\"\n",
    "\n",
    "embeddings = []\n",
    "\n",
    "if os.path.exists(EMBEDDINGS_CACHE_FILE):\n",
    "    print(\"Loading cached embeddings...\")\n",
    "    with open(EMBEDDINGS_CACHE_FILE, \"rb\") as f:\n",
    "        embeddings = pickle.load(f)"
   ]
  },
  {
   "cell_type": "code",
   "execution_count": 13,
   "metadata": {},
   "outputs": [
    {
     "name": "stdout",
     "output_type": "stream",
     "text": [
      "Upserting points 0 to 1000...\n",
      "Upserting points 1000 to 1008...\n"
     ]
    }
   ],
   "source": [
    "document_ids = vector_store.add_documents(docs=chunks, embeddings=embeddings)"
   ]
  },
  {
   "cell_type": "code",
   "execution_count": 14,
   "metadata": {},
   "outputs": [
    {
     "name": "stdout",
     "output_type": "stream",
     "text": [
      "Collection info: status=<CollectionStatus.GREEN: 'green'> optimizer_status=<OptimizersStatusOneOf.OK: 'ok'> vectors_count=None indexed_vectors_count=0 points_count=1008 segments_count=2 config=CollectionConfig(params=CollectionParams(vectors=VectorParams(size=768, distance=<Distance.COSINE: 'Cosine'>, hnsw_config=None, quantization_config=None, on_disk=None, datatype=None, multivector_config=None), shard_number=1, sharding_method=None, replication_factor=1, write_consistency_factor=1, read_fan_out_factor=None, on_disk_payload=True, sparse_vectors=None), hnsw_config=HnswConfig(m=16, ef_construct=100, full_scan_threshold=10000, max_indexing_threads=0, on_disk=False, payload_m=None), optimizer_config=OptimizersConfig(deleted_threshold=0.2, vacuum_min_vector_number=1000, default_segment_number=0, max_segment_size=None, memmap_threshold=None, indexing_threshold=20000, flush_interval_sec=5, max_optimization_threads=None), wal_config=WalConfig(wal_capacity_mb=32, wal_segments_ahead=0), quantization_config=None, strict_mode_config=StrictModeConfig(enabled=False, max_query_limit=None, max_timeout=None, unindexed_filtering_retrieve=None, unindexed_filtering_update=None, search_max_hnsw_ef=None, search_allow_exact=None, search_max_oversampling=None, upsert_max_batchsize=None, max_collection_vector_size_bytes=None, read_rate_limit=None, write_rate_limit=None, max_collection_payload_size_bytes=None, filter_max_conditions=None, condition_max_size=None)) payload_schema={}\n",
      "Number of documents in vector store: count=1008\n"
     ]
    }
   ],
   "source": [
    "collection_info = vector_store.client.get_collection(vector_store.collection_name)\n",
    "print(f\"Collection info: {collection_info}\")\n",
    "\n",
    "# Count the number of points in the collection\n",
    "point_count = vector_store.client.count(vector_store.collection_name)\n",
    "print(f\"Number of documents in vector store: {point_count}\")"
   ]
  },
  {
   "cell_type": "code",
   "execution_count": null,
   "metadata": {},
   "outputs": [
    {
     "name": "stdout",
     "output_type": "stream",
     "text": [
      "points=[ScoredPoint(id=325, version=0, score=0.67123914, payload={'text': 't SUTD, and discover the best fit for your interests. See more Useful information Careers at SUTD Connect with us Take a virtual campus tour 8 Somapah Rd, Singapore 487372 +65 6303 6600 +65 6303 6600 Email HASS Directory Social Media Facebook X Youtube Linkedin TikTok Instagram Contact SUTD Whistleblowing Policy Terms & Conditions Privacy Statement Copyright © 2011 – 2025 We use cookies to ensure you get the best experience on our website. By selecting “I agree”, you consent to our use of cookie', 'metadata': {'source': 'https://www.sutd.edu.sg/hass/education/undergraduate/minors/digital-humanities-minor/'}}, vector=None, shard_key=None, order_value=None), ScoredPoint(id=556, version=0, score=0.6282536, payload={'text': 't SUTD Connect with us Take a virtual campus tour 8 Somapah Rd, Singapore 487372 +65 6303 6600 +65 6303 6600 Email us Directory Social Media Facebook X YouTube LinkedIn TikTok Instagram Contact Us Whistleblowing Policy Terms & Conditions Privacy Statement Copyright © 2011 – 2025 We use cookies to ensure you get the best experience on our website. By selecting “I agree”, you consent to our use of cookies.I agreeI decline', 'metadata': {'source': 'https://www.sutd.edu.sg/admissions/graduate/masters/'}}, vector=None, shard_key=None, order_value=None), ScoredPoint(id=276, version=0, score=0.62562835, payload={'text': 'd: 21 January 2025 Useful information Careers at SUTD Connect with us Take a virtual campus tour 8 Somapah Rd, Singapore 487372 +65 6303 6600 +65 6303 6600 Email EPD Directory Social Media Facebook X Youtube Linkedin TikTok Instagram Contact SUTD Whistleblowing Policy Terms & Conditions Privacy Statement Copyright © 2011 – 2025 We use cookies to ensure you get the best experience on our website. By selecting “I agree”, you consent to our use of cookiesI agreeI decline', 'metadata': {'source': 'https://www.sutd.edu.sg/epd/education/undergraduate/specialisation-tracks/self-directed-programme/#tabs'}}, vector=None, shard_key=None, order_value=None), ScoredPoint(id=246, version=0, score=0.61873907, payload={'text': ' information Careers at SUTD Connect with us Take a virtual campus tour 8 Somapah Rd, Singapore 487372 +65 6303 6600 +65 6303 6600 Email EPD Directory Social Media Facebook X Youtube Linkedin TikTok Instagram Contact SUTD Whistleblowing Policy Terms & Conditions Privacy Statement Copyright © 2011 – 2025 We use cookies to ensure you get the best experience on our website. By selecting “I agree”, you consent to our use of cookiesI agreeI decline', 'metadata': {'source': 'https://www.sutd.edu.sg/epd/education/undergraduate/specialisation-tracks/electrical-engineering/'}}, vector=None, shard_key=None, order_value=None), ScoredPoint(id=194, version=0, score=0.61508644, payload={'text': 'ses offered throughout SUTD, and discover the best fit for your interests. See more Useful information Careers at SUTD Connect with us Take a virtual campus tour 8 Somapah Rd, Singapore 487372 +65 6303 6600 +65 6303 6600 Email ASD Directory Social Media Facebook X Youtube Linkedin TikTok Instagram Contact SUTD Whistleblowing Policy Terms & Conditions Privacy Statement Copyright © 2011 – 2025 We use cookies to ensure you get the best experience on our website. By selecting “I agree”, you consent ', 'metadata': {'source': 'https://www.sutd.edu.sg/asd/education/undergraduate/courses'}}, vector=None, shard_key=None, order_value=None)]\n"
     ]
    }
   ],
   "source": [
    "query = \"what is sutd?\"\n",
    "query_embedding = vector_store.get_embeddings(query)\n",
    "results = vector_store.client.query_points(\n",
    "    collection_name=vector_store.collection_name,\n",
    "    query=query_embedding,\n",
    "    limit=5,\n",
    ")\n",
    "print(results)"
   ]
  }
 ],
 "metadata": {
  "kernelspec": {
   "display_name": ".venv",
   "language": "python",
   "name": "python3"
  },
  "language_info": {
   "codemirror_mode": {
    "name": "ipython",
    "version": 3
   },
   "file_extension": ".py",
   "mimetype": "text/x-python",
   "name": "python",
   "nbconvert_exporter": "python",
   "pygments_lexer": "ipython3",
   "version": "3.11.11"
  }
 },
 "nbformat": 4,
 "nbformat_minor": 2
}
