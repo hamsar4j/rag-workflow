{
 "cells": [
  {
   "cell_type": "code",
   "execution_count": 1,
   "metadata": {},
   "outputs": [],
   "source": [
    "from qdrant_client import QdrantClient, models\n",
    "from app.core.config import settings as config\n",
    "from app.utils.utils import split_docs\n",
    "from app.web_loader.bs_loader import load_web_docs\n",
    "from app.web_loader.bs_utils import urls\n",
    "from app.db.vector_store import VectorStore\n",
    "import os\n",
    "import pickle\n",
    "from tenacity import (\n",
    "    retry,\n",
    "    wait_exponential,\n",
    "    stop_after_attempt,\n",
    "    retry_if_exception_type,\n",
    ")\n",
    "import time\n",
    "import requests\n",
    "import numpy as np"
   ]
  },
  {
   "cell_type": "code",
   "execution_count": 2,
   "metadata": {},
   "outputs": [],
   "source": [
    "client = QdrantClient(config.qdrant_url, api_key=config.qdrant_api_key)"
   ]
  },
  {
   "cell_type": "code",
   "execution_count": 3,
   "metadata": {},
   "outputs": [
    {
     "data": {
      "text/plain": [
       "True"
      ]
     },
     "execution_count": 3,
     "metadata": {},
     "output_type": "execute_result"
    }
   ],
   "source": [
    "client.create_collection(\n",
    "    collection_name=\"sutd\",\n",
    "    vectors_config=models.VectorParams(\n",
    "        size=config.embeddings_dim, distance=models.Distance.COSINE\n",
    "    ),\n",
    ")"
   ]
  },
  {
   "cell_type": "code",
   "execution_count": 4,
   "metadata": {},
   "outputs": [],
   "source": [
    "# client.delete_collection(collection_name=\"sutd\")"
   ]
  },
  {
   "cell_type": "code",
   "execution_count": 5,
   "metadata": {},
   "outputs": [
    {
     "data": {
      "text/plain": [
       "CollectionsResponse(collections=[CollectionDescription(name='sutd')])"
      ]
     },
     "execution_count": 5,
     "metadata": {},
     "output_type": "execute_result"
    }
   ],
   "source": [
    "client.get_collections()"
   ]
  },
  {
   "cell_type": "code",
   "execution_count": 6,
   "metadata": {},
   "outputs": [
    {
     "name": "stdout",
     "output_type": "stream",
     "text": [
      "Loading cached documents...\n"
     ]
    }
   ],
   "source": [
    "CACHE_FILE = \"all_docs.pkl\"\n",
    "\n",
    "if os.path.exists(CACHE_FILE):\n",
    "    print(\"Loading cached documents...\")\n",
    "    with open(CACHE_FILE, \"rb\") as f:\n",
    "        all_docs = pickle.load(f)\n",
    "else:\n",
    "    all_docs = load_web_docs(urls)\n",
    "    print(\"Saving documents to cache...\")\n",
    "    with open(CACHE_FILE, \"wb\") as f:\n",
    "        pickle.dump(all_docs, f)"
   ]
  },
  {
   "cell_type": "code",
   "execution_count": 7,
   "metadata": {},
   "outputs": [],
   "source": [
    "chunks = split_docs(all_docs)"
   ]
  },
  {
   "cell_type": "code",
   "execution_count": 8,
   "metadata": {},
   "outputs": [
    {
     "name": "stdout",
     "output_type": "stream",
     "text": [
      "1010\n",
      "Document(text='ousing Sports and recreation centre F&B and services Library About About OVERVIEW Design AI At a glance Diversity and inclusion Sustainability PEOPLE Leadership Board of Trustees President Emeritus Professorships Faculty MORE Happenings Careers at SUTD Partnering with SUTD On this page Popular searches quick links Discover SUTD The world’s first Design AI university Innovation @ SUTD AirXeed radiosonde AI @ SUTD Mustango – DALL-E for music Discover SUTD The world’s first Design AI university Pla', metadata={'source': 'https://www.sutd.edu.sg/'})\n"
     ]
    }
   ],
   "source": [
    "print(len(chunks))\n",
    "print(chunks[4])"
   ]
  },
  {
   "cell_type": "code",
   "execution_count": 9,
   "metadata": {},
   "outputs": [],
   "source": [
    "vector_store = VectorStore(config)\n",
    "embeddings = []"
   ]
  },
  {
   "cell_type": "code",
   "execution_count": 10,
   "metadata": {},
   "outputs": [
    {
     "name": "stdout",
     "output_type": "stream",
     "text": [
      "Processed 0/1010 chunks\n",
      "Processed 100/1010 chunks\n",
      "Processed 200/1010 chunks\n",
      "Processed 300/1010 chunks\n",
      "Processed 400/1010 chunks\n",
      "Processed 500/1010 chunks\n",
      "Processed 600/1010 chunks\n",
      "Processed 700/1010 chunks\n",
      "Processed 800/1010 chunks\n",
      "Processed 900/1010 chunks\n",
      "Processed 1000/1010 chunks\n",
      "[ 3.66798714e-02  5.31939194e-02 -7.98823982e-02 -4.60960856e-03\n",
      "  4.39698771e-02 -7.52986828e-03  3.33775505e-02 -2.97323614e-02\n",
      "  4.85165454e-02  1.41170500e-02 -3.43748778e-02  3.50924693e-02\n",
      "  5.48899956e-02 -1.52172865e-02 -1.72513034e-02  1.69632714e-02\n",
      "  4.37707342e-02  3.86628993e-02 -1.19741268e-01 -3.74139287e-02\n",
      " -4.52079065e-02 -4.29069949e-03 -9.43819340e-03 -2.92334910e-02\n",
      "  4.90868045e-03 -4.82631624e-02  3.07752546e-02  2.42127776e-02\n",
      " -1.55400648e-03  1.39718372e-02  1.83774922e-02  1.83284562e-02\n",
      "  4.17063199e-03  1.26396155e-03 -2.41439063e-02 -6.15790999e-03\n",
      "  3.58813740e-02 -3.25388983e-02  3.38935889e-02 -2.47451738e-02\n",
      " -6.85992464e-02 -2.52290182e-02  6.49226550e-03  2.71702372e-02\n",
      " -6.71909675e-02  3.58113181e-03 -4.20496538e-02  7.56458715e-02\n",
      " -6.84257001e-02  6.43783361e-02  2.65682768e-02 -2.09449939e-02\n",
      " -3.19388881e-02  3.92434672e-02 -5.64502366e-02 -5.87215424e-02\n",
      " -1.33531457e-02  2.54931743e-03  3.45777832e-02 -3.09104510e-02\n",
      " -3.33342068e-02 -4.04182784e-02 -4.00943309e-02 -5.96958548e-02\n",
      " -8.06425977e-03  9.85989347e-03  1.69148203e-02 -2.01630145e-02\n",
      " -3.19652334e-02 -3.31924036e-02 -7.67798210e-03  5.17519824e-02\n",
      " -2.23487727e-02  3.13693471e-02  2.44557932e-02 -1.12143718e-02\n",
      "  1.53418547e-02 -2.75405999e-02  4.74513648e-03  3.47233601e-02\n",
      " -3.55264023e-02  3.79161835e-02  3.10756229e-02  5.07073775e-02\n",
      "  1.00435009e-02  6.73331739e-03  4.29329015e-02 -9.14481059e-02\n",
      " -5.81200831e-02 -2.43078154e-02 -2.40646135e-02 -2.36339159e-02\n",
      "  1.34615065e-03  5.43480478e-02  4.63367887e-02  9.10303649e-03\n",
      " -5.36958575e-02 -1.39201209e-01  9.40926820e-02  7.29063228e-02\n",
      "  4.76851081e-03  2.79802661e-02 -1.16475327e-02  8.54449905e-03\n",
      " -4.06270251e-02  4.98010069e-02 -2.04140227e-02  5.54559845e-03\n",
      " -4.92206514e-02  4.14056219e-02 -8.06804001e-03 -2.97608022e-02\n",
      " -2.58968212e-02 -9.78557300e-03 -4.49614935e-02  2.13068966e-02\n",
      " -1.71166435e-02 -1.11382985e-02 -2.89886985e-02  6.31423742e-02\n",
      "  3.49231474e-02 -5.01427287e-03 -1.17180562e-02  3.17855068e-02\n",
      "  4.06576991e-02  9.15634353e-03  3.52130421e-02  4.34170663e-02\n",
      "  2.25893073e-02 -3.98258567e-02  1.46854091e-02 -4.92902547e-02\n",
      " -1.08096935e-03 -2.35242154e-02  4.38880995e-02 -1.53085133e-02\n",
      "  6.66555539e-02 -5.68271056e-02  5.35636619e-02  2.87280977e-02\n",
      " -9.68063064e-03 -2.11349819e-02 -8.15642849e-02 -2.71573793e-02\n",
      " -3.56675535e-02 -5.83681911e-02  6.35586157e-02  1.38323950e-02\n",
      " -2.44506705e-03  1.54296076e-02 -2.49650888e-03 -3.67316231e-02\n",
      "  2.65903622e-02 -1.27704348e-02 -1.68054327e-02 -2.08364334e-02\n",
      "  2.46311054e-02 -5.45286722e-02  4.02165465e-02  4.39176289e-03\n",
      "  6.20500036e-02 -7.63770416e-02 -6.31703436e-02  7.26570841e-03\n",
      "  1.32865738e-02  1.02989911e-03 -2.31422074e-02 -3.18467245e-02\n",
      "  1.24698645e-02 -2.58000195e-02 -3.61964181e-02  3.27309482e-02\n",
      " -7.78859016e-03 -9.12614539e-03 -1.21561699e-02 -1.29409153e-02\n",
      " -4.74548638e-02 -8.96766782e-03  3.33434716e-02 -1.98475365e-03\n",
      "  7.76059926e-02  7.81143829e-02 -2.57385876e-02 -1.56159550e-02\n",
      " -1.79513916e-03  3.33180502e-02  2.31904797e-02  2.61833239e-02\n",
      "  3.28501291e-03  3.99258845e-02  3.74496207e-02 -5.69879338e-02\n",
      " -2.05430365e-03 -9.50860977e-03 -2.08827369e-02 -2.30958741e-02\n",
      "  3.34048383e-02 -1.30667584e-02  2.79489886e-02 -6.57591745e-02\n",
      "  4.66582812e-02  3.81025188e-02  1.04855197e-02  1.32075893e-02\n",
      " -1.55875050e-02  4.76060770e-02 -1.94397494e-02 -2.82858554e-02\n",
      "  1.98013578e-02 -2.22825017e-02 -4.43660654e-02  4.58398126e-02\n",
      " -5.83724305e-02 -3.60668823e-02 -1.75123010e-02 -1.42039908e-02\n",
      "  5.68699762e-02  2.62240786e-03  6.37046099e-02 -7.90759642e-03\n",
      " -3.40283886e-02 -4.23174119e-03 -1.87242180e-02  1.69353466e-02\n",
      "  7.02542365e-02  2.01487169e-02  6.92656077e-03  2.58803833e-02\n",
      " -1.83545537e-02 -3.72034051e-02  9.91599727e-03  1.09971059e-03\n",
      "  2.45358981e-03  7.39842579e-02 -6.20219000e-02 -1.62440306e-03\n",
      " -8.84606037e-03 -4.95515112e-03 -3.58921066e-02  2.37593544e-03\n",
      "  6.32433128e-03  3.58739048e-02  6.87592402e-02 -7.31709972e-03\n",
      "  7.63588725e-03  5.07855751e-02 -3.89689170e-02  2.73077674e-02\n",
      " -3.49072404e-02 -5.09546511e-02 -5.13202064e-02  2.26303749e-03\n",
      "  9.02716909e-03 -3.20038050e-02 -8.26385468e-02 -1.31326001e-02\n",
      "  3.33080180e-02 -2.81838607e-02  1.28651485e-02 -2.33573206e-02\n",
      "  6.11033291e-03 -1.95939820e-02 -3.94905619e-02 -2.69872304e-02\n",
      " -8.06484930e-03 -4.57866713e-02 -3.95843051e-02 -7.89576620e-02\n",
      "  4.72964272e-02  2.09763530e-03  2.64190063e-02 -3.95393968e-02\n",
      " -6.54088631e-02 -2.12020874e-02  5.27144235e-04  1.62308011e-02\n",
      " -1.36643378e-02 -4.95029241e-02 -9.02971327e-02 -4.59018257e-03\n",
      " -1.31612858e-02  3.06320284e-03 -4.67309617e-02 -5.38690016e-03\n",
      "  6.70083016e-02 -4.13623042e-02  6.70788949e-03 -1.97631940e-02\n",
      " -2.31459877e-03 -4.01849747e-02  2.15028897e-02  4.71572243e-02\n",
      " -5.36665432e-02 -5.57945259e-02  4.33713570e-02  1.03477184e-02\n",
      "  1.05007393e-02  1.54896462e-02 -7.85257109e-03 -1.10303406e-02\n",
      "  2.22766045e-02  3.42824906e-02 -4.41886447e-02  3.24928425e-02\n",
      " -1.95766147e-02 -3.36135738e-02 -6.62930310e-02  5.61978556e-02\n",
      " -8.96174554e-03 -4.56642248e-02  5.30545413e-02  2.27568746e-02\n",
      " -4.18699067e-03  9.27827321e-03 -1.78204123e-02 -1.07571138e-02\n",
      " -9.65265855e-02 -4.62378040e-02 -5.06733544e-02  5.51157929e-02\n",
      "  1.15317339e-02  3.15481648e-02 -2.39707138e-02  5.97075447e-02\n",
      "  1.38447639e-02 -6.61614165e-02  7.97234382e-03 -2.40077917e-02\n",
      "  6.48104101e-02  2.25131921e-02 -4.20714989e-02  2.94340134e-04\n",
      " -2.29712110e-02 -3.66904885e-02 -1.41470237e-02 -1.49279516e-02\n",
      "  1.64389275e-02  1.17845843e-02  5.90555109e-02 -1.67469718e-02\n",
      " -2.81892065e-02  1.02548320e-02  6.37950003e-02  2.51480583e-02\n",
      " -1.38525963e-02 -1.84417237e-02  8.83335946e-04 -1.74852589e-03\n",
      "  4.14298475e-02 -1.55501941e-03  9.51293558e-02 -3.13613713e-02\n",
      "  1.60085168e-02 -4.08909544e-02 -1.96423419e-02  4.37226780e-02\n",
      "  6.12844527e-02  2.08013784e-02  3.85850668e-03  3.49510903e-03\n",
      "  2.88481377e-02  2.89448779e-02  1.52720148e-02  1.03228930e-02\n",
      " -2.20510177e-02 -1.73441805e-02  8.17768369e-03  4.86094467e-02\n",
      "  2.59648580e-02 -3.31475660e-02  3.49227786e-02  6.85996097e-03\n",
      "  9.63838585e-03 -2.73473021e-02  9.58384760e-03 -2.41336077e-02\n",
      " -1.11587951e-02  1.35862371e-02  9.71999858e-03  3.74516509e-02\n",
      " -4.48760800e-02 -6.70783743e-02 -3.96510446e-03  3.50105464e-02\n",
      "  1.10603711e-02  2.47824434e-02 -4.12929170e-02 -3.24509107e-02\n",
      " -2.62699686e-02  4.12214287e-02  1.93711091e-02  6.89907093e-03\n",
      " -1.46839097e-02 -9.57957469e-03 -1.43564595e-02 -1.61811318e-02\n",
      " -1.34726902e-02  3.69216204e-02  4.31564040e-02 -4.39229459e-02\n",
      " -8.63150321e-03 -3.38055752e-02  7.85540119e-02 -9.50191692e-02\n",
      " -1.90062523e-02 -2.43724100e-02  3.19603384e-02 -7.10277259e-03\n",
      "  2.20867433e-02 -4.23682146e-02 -3.42244096e-02 -2.74332352e-02\n",
      " -1.23642925e-02  2.30642706e-02  1.31691024e-02 -3.04391850e-02\n",
      "  4.74900343e-02  7.63690146e-03 -1.49959931e-02  7.09475204e-02\n",
      "  1.26286251e-02  3.05948057e-03  5.56419306e-02 -3.47436592e-02\n",
      "  1.70277606e-03 -3.12215928e-02  3.03602591e-02  1.67212840e-02\n",
      " -9.79907904e-03 -2.97609624e-02  2.78403144e-03  6.40740246e-02\n",
      " -3.79600283e-03 -2.74762008e-02  1.72495805e-02  1.70077048e-02\n",
      "  2.35526729e-02  3.41540761e-03  1.04946978e-02  3.75038758e-02\n",
      " -5.27827162e-03 -1.91181954e-02 -2.90264953e-02 -6.63718861e-03\n",
      " -1.59259923e-02 -7.23556965e-04  6.13960065e-02  8.29394385e-02\n",
      " -3.27307768e-02 -5.48597313e-02  2.32460443e-02 -2.54516471e-02\n",
      "  5.01503535e-02 -2.55881343e-02 -3.08215693e-02  1.85407121e-02\n",
      "  1.00979777e-02  2.43252721e-02  2.76212185e-03 -1.15569625e-02\n",
      " -4.89562340e-02 -6.27381131e-02  4.24688645e-02  8.67447443e-03\n",
      "  5.00504412e-02 -2.60200128e-02 -3.16325622e-03  1.16012692e-02\n",
      "  7.50969816e-03  7.08840936e-02  6.51317611e-02 -1.75576024e-02\n",
      "  1.63579974e-02 -3.17301676e-02 -2.57356558e-02 -4.38212045e-03\n",
      "  1.82857309e-02 -3.14279385e-02  4.95459028e-02  2.64674127e-02\n",
      " -2.80055851e-02  3.12642902e-02  6.07826784e-02  3.03890035e-02\n",
      "  8.90323222e-02 -5.94066009e-02  2.42808294e-02 -4.72765267e-02\n",
      "  2.29840893e-02  2.39304751e-02  1.24504650e-02  3.91096342e-03\n",
      " -3.04266326e-02 -3.71861234e-02 -3.19633959e-03 -4.14248742e-02\n",
      "  5.88240512e-02 -1.41533352e-02 -1.22334873e-02  4.68213744e-02\n",
      "  8.95758420e-02  2.48056892e-02 -1.44117028e-02 -3.18728797e-02\n",
      " -4.79751341e-02  1.66440401e-02 -1.32367397e-02 -1.97788812e-02\n",
      "  2.77741589e-02  6.91107735e-02  2.64210720e-02  1.44189475e-02\n",
      " -2.46469863e-02  2.80936304e-02  2.52973344e-02  2.88658570e-02\n",
      " -6.60735369e-02 -1.82792768e-02 -4.25890274e-02  6.60991482e-03\n",
      " -3.80230732e-02 -9.04341787e-03  4.35161106e-02 -3.00636142e-02\n",
      " -2.86426693e-02 -4.11995649e-02  2.80938614e-02 -1.76749583e-02\n",
      "  8.65003373e-03 -7.37103634e-03 -1.46195730e-02  8.39664936e-02\n",
      "  6.26504496e-02 -7.44899828e-03 -8.75251740e-03  1.76397879e-02\n",
      "  5.03167277e-04 -3.57973054e-02  8.88905860e-03 -7.53832795e-03\n",
      " -2.88838074e-02  3.27626728e-02  1.59502886e-02  3.81545238e-02\n",
      "  6.38692454e-02 -1.61866117e-02 -3.09006553e-02  4.08548350e-03\n",
      " -1.33385742e-02  8.54415298e-02  3.30792516e-02 -1.95465200e-02\n",
      "  6.54177507e-03 -4.55302000e-02 -1.18984347e-02  2.92855836e-02\n",
      "  2.68862378e-02 -3.45747769e-02 -3.25888135e-02 -4.46036421e-02\n",
      " -9.63667780e-03 -1.33612417e-02  9.31452960e-03  2.43347287e-02\n",
      "  2.39978563e-02 -8.88831913e-03  2.27628853e-02  3.38756740e-02\n",
      " -7.45436549e-02 -4.11995873e-02  4.32362547e-03  7.76325446e-03\n",
      "  6.09416179e-02 -4.41942401e-02  3.36272735e-03 -4.83966693e-02\n",
      " -4.60720509e-02  2.23088134e-02  3.53336334e-02 -5.71273901e-02\n",
      "  1.31656248e-02 -6.21450483e-04  3.84343565e-02 -6.22692099e-03\n",
      "  2.27212459e-02 -9.49985173e-04  1.59972720e-02 -9.48018301e-03\n",
      " -5.80268130e-02 -1.15336888e-02 -5.98778687e-02  8.16280581e-03\n",
      "  5.02226651e-02 -1.33170020e-02  2.94108298e-02 -4.43210006e-02\n",
      " -7.43522197e-02  2.60228645e-02  2.05272771e-02 -2.31292732e-02\n",
      " -8.61314312e-03 -8.65595601e-03  2.50475463e-02  1.25709418e-02\n",
      " -1.23022664e-02 -7.97857121e-02  6.68299105e-03 -7.41627887e-02\n",
      " -1.64455492e-02  2.86169853e-02  2.98746675e-02 -8.75351205e-03\n",
      " -4.17188257e-02 -6.23223314e-04 -4.83298264e-02  3.18588782e-03\n",
      " -4.97027300e-03 -4.17633928e-05  3.73145416e-02  2.08665635e-02\n",
      " -9.11642052e-03 -2.06708405e-02 -1.97773930e-02 -2.49820668e-02\n",
      "  5.92650799e-03  2.56093927e-02  6.67717261e-03  2.96131661e-03\n",
      "  4.05992903e-02  2.03037020e-02  6.41673952e-02  5.16800694e-02\n",
      "  2.57661995e-02  5.09762950e-02  1.04413135e-02  3.58032770e-02\n",
      " -3.94601980e-03 -8.54083989e-03  6.13507330e-02 -4.51439284e-02\n",
      " -2.50149425e-02  4.48554903e-02  1.72933489e-02  2.14669271e-03\n",
      " -1.52011551e-02  4.91869934e-02 -1.98648940e-03  2.84572467e-02\n",
      "  2.78357445e-04  5.13927825e-02 -3.67177534e-03  4.18116152e-02\n",
      " -4.41009849e-02  1.98118761e-02 -8.58211017e-04 -3.68247814e-02\n",
      " -6.22853152e-02 -5.83964847e-02  2.54115798e-02 -2.49272631e-03\n",
      " -7.59508163e-02 -4.06484641e-02 -3.30825429e-03  2.58584134e-02\n",
      " -7.35460445e-02  9.44071542e-03 -1.81017295e-02  5.05408868e-02\n",
      " -3.04856757e-03 -2.01234245e-03 -9.23132803e-03 -1.23033626e-02\n",
      " -1.20313112e-02  6.38024285e-02 -7.79010076e-03 -3.90548334e-02\n",
      "  7.33353570e-02 -3.29840556e-03 -4.93038781e-02  3.00549786e-03\n",
      " -3.60713005e-02 -1.17570553e-02  6.03739582e-02 -2.91973557e-02\n",
      "  3.78380273e-03 -1.67034864e-02  2.47132536e-02 -2.93499865e-02\n",
      " -2.22984254e-02 -2.24981606e-02 -6.76034614e-02 -5.96791282e-02\n",
      " -1.06632197e-02 -3.39012519e-02  8.05540942e-03  2.23046578e-02\n",
      " -2.13374719e-02 -3.00028571e-03 -2.52129161e-03 -9.03512537e-03\n",
      "  3.29963863e-02 -8.99323542e-03 -2.65057180e-02  4.32400499e-03\n",
      " -1.24988351e-02  3.02243419e-02  1.15257790e-02  3.82014513e-02\n",
      " -4.63401936e-02  4.18626778e-02 -4.04324122e-02 -4.91189063e-02\n",
      "  4.27285694e-02  4.67733061e-03  1.25325369e-02 -5.26556820e-02\n",
      "  2.72072814e-02  2.48022955e-02  1.05054984e-02 -5.02472743e-03\n",
      "  3.39905247e-02 -1.35344230e-02  1.76644884e-02  7.50537217e-02\n",
      "  3.35741006e-02  1.53116637e-03 -1.49967531e-02 -3.66038829e-02\n",
      " -4.81646247e-02  1.15452651e-02 -3.67718488e-02 -1.72748417e-02\n",
      "  1.00751910e-02  2.39547044e-02  3.81272435e-02 -4.77634966e-02\n",
      "  1.77406464e-02 -2.02232059e-02 -3.55745330e-02 -6.65974244e-02\n",
      "  2.83760093e-02  2.03094333e-02 -8.00847486e-02 -2.80618761e-02\n",
      " -5.20844525e-03  8.01681075e-03 -1.03420988e-02 -4.23739180e-02\n",
      "  1.09891975e-02 -1.97630227e-02 -1.21325575e-01  1.81087721e-02\n",
      "  9.88184940e-03  3.18935737e-02  3.50997858e-02  8.15797132e-03\n",
      " -3.06460727e-03  6.83221314e-03  7.97392800e-03  4.34503965e-02\n",
      " -4.95187603e-02  5.61518520e-02 -7.37096462e-03  2.56708357e-02\n",
      " -5.71338721e-02 -3.33823562e-02  3.65418084e-02 -2.10923385e-02]\n"
     ]
    }
   ],
   "source": [
    "@retry(\n",
    "    retry=retry_if_exception_type((requests.exceptions.RequestException, Exception)),\n",
    "    wait=wait_exponential(multiplier=1, min=4, max=60),  # Exponential backoff\n",
    "    stop=stop_after_attempt(5),  # Max 5 attempts\n",
    ")\n",
    "def get_embedding_with_retry(text):\n",
    "    time.sleep(60 / 1500)\n",
    "    return vector_store.get_embeddings(text)\n",
    "\n",
    "\n",
    "for i, chunk in enumerate(chunks):\n",
    "    try:\n",
    "        embedding = get_embedding_with_retry(chunk.text)\n",
    "        embeddings.append(embedding)\n",
    "\n",
    "        if i % 100 == 0:\n",
    "            print(f\"Processed {i}/{len(chunks)} chunks\")\n",
    "\n",
    "    except Exception as e:\n",
    "        print(f\"Failed after retries on chunk {i}: {str(e)}\")\n",
    "        embeddings.append(None)\n",
    "\n",
    "print(embeddings[0])"
   ]
  },
  {
   "cell_type": "code",
   "execution_count": 11,
   "metadata": {},
   "outputs": [],
   "source": [
    "EMBEDDINGS_CACHE_FILE = \"embeddings.pkl\"\n",
    "\n",
    "with open(EMBEDDINGS_CACHE_FILE, \"wb\") as f:\n",
    "    pickle.dump(embeddings, f)"
   ]
  },
  {
   "cell_type": "code",
   "execution_count": 12,
   "metadata": {},
   "outputs": [
    {
     "name": "stdout",
     "output_type": "stream",
     "text": [
      "Loading cached embeddings...\n"
     ]
    }
   ],
   "source": [
    "EMBEDDINGS_CACHE_FILE = \"embeddings.pkl\"\n",
    "\n",
    "if os.path.exists(EMBEDDINGS_CACHE_FILE):\n",
    "    print(\"Loading cached embeddings...\")\n",
    "    with open(EMBEDDINGS_CACHE_FILE, \"rb\") as f:\n",
    "        embeddings = pickle.load(f)"
   ]
  },
  {
   "cell_type": "code",
   "execution_count": 13,
   "metadata": {},
   "outputs": [
    {
     "name": "stdout",
     "output_type": "stream",
     "text": [
      "Upserting points 0 to 1000...\n",
      "Upserting points 1000 to 1010...\n"
     ]
    }
   ],
   "source": [
    "document_ids = vector_store.add_documents(docs=chunks, embeddings=embeddings)"
   ]
  },
  {
   "cell_type": "code",
   "execution_count": 14,
   "metadata": {},
   "outputs": [
    {
     "name": "stdout",
     "output_type": "stream",
     "text": [
      "Collection info: status=<CollectionStatus.GREEN: 'green'> optimizer_status=<OptimizersStatusOneOf.OK: 'ok'> vectors_count=None indexed_vectors_count=0 points_count=1010 segments_count=2 config=CollectionConfig(params=CollectionParams(vectors=VectorParams(size=768, distance=<Distance.COSINE: 'Cosine'>, hnsw_config=None, quantization_config=None, on_disk=None, datatype=None, multivector_config=None), shard_number=1, sharding_method=None, replication_factor=1, write_consistency_factor=1, read_fan_out_factor=None, on_disk_payload=True, sparse_vectors=None), hnsw_config=HnswConfig(m=16, ef_construct=100, full_scan_threshold=10000, max_indexing_threads=0, on_disk=False, payload_m=None), optimizer_config=OptimizersConfig(deleted_threshold=0.2, vacuum_min_vector_number=1000, default_segment_number=0, max_segment_size=None, memmap_threshold=None, indexing_threshold=20000, flush_interval_sec=5, max_optimization_threads=None), wal_config=WalConfig(wal_capacity_mb=32, wal_segments_ahead=0), quantization_config=None, strict_mode_config=StrictModeConfig(enabled=False, max_query_limit=None, max_timeout=None, unindexed_filtering_retrieve=None, unindexed_filtering_update=None, search_max_hnsw_ef=None, search_allow_exact=None, search_max_oversampling=None, upsert_max_batchsize=None, max_collection_vector_size_bytes=None, read_rate_limit=None, write_rate_limit=None, max_collection_payload_size_bytes=None, filter_max_conditions=None, condition_max_size=None)) payload_schema={}\n",
      "Number of documents in vector store: count=1010\n"
     ]
    }
   ],
   "source": [
    "collection_info = vector_store.client.get_collection(vector_store.collection_name)\n",
    "print(f\"Collection info: {collection_info}\")\n",
    "\n",
    "# Count the number of points in the collection\n",
    "point_count = vector_store.client.count(vector_store.collection_name)\n",
    "print(f\"Number of documents in vector store: {point_count}\")"
   ]
  },
  {
   "cell_type": "code",
   "execution_count": 15,
   "metadata": {},
   "outputs": [
    {
     "name": "stdout",
     "output_type": "stream",
     "text": [
      "points=[ScoredPoint(id=327, version=0, score=0.67123914, payload={'text': 't SUTD, and discover the best fit for your interests. See more Useful information Careers at SUTD Connect with us Take a virtual campus tour 8 Somapah Rd, Singapore 487372 +65 6303 6600 +65 6303 6600 Email HASS Directory Social Media Facebook X Youtube Linkedin TikTok Instagram Contact SUTD Whistleblowing Policy Terms & Conditions Privacy Statement Copyright © 2011 – 2025 We use cookies to ensure you get the best experience on our website. By selecting “I agree”, you consent to our use of cookie', 'metadata': {'source': 'https://www.sutd.edu.sg/hass/education/undergraduate/minors/digital-humanities-minor/'}}, vector=None, shard_key=None, order_value=None), ScoredPoint(id=558, version=0, score=0.6282536, payload={'text': 't SUTD Connect with us Take a virtual campus tour 8 Somapah Rd, Singapore 487372 +65 6303 6600 +65 6303 6600 Email us Directory Social Media Facebook X YouTube LinkedIn TikTok Instagram Contact Us Whistleblowing Policy Terms & Conditions Privacy Statement Copyright © 2011 – 2025 We use cookies to ensure you get the best experience on our website. By selecting “I agree”, you consent to our use of cookies.I agreeI decline', 'metadata': {'source': 'https://www.sutd.edu.sg/admissions/graduate/masters/'}}, vector=None, shard_key=None, order_value=None), ScoredPoint(id=278, version=0, score=0.62562835, payload={'text': 'd: 21 January 2025 Useful information Careers at SUTD Connect with us Take a virtual campus tour 8 Somapah Rd, Singapore 487372 +65 6303 6600 +65 6303 6600 Email EPD Directory Social Media Facebook X Youtube Linkedin TikTok Instagram Contact SUTD Whistleblowing Policy Terms & Conditions Privacy Statement Copyright © 2011 – 2025 We use cookies to ensure you get the best experience on our website. By selecting “I agree”, you consent to our use of cookiesI agreeI decline', 'metadata': {'source': 'https://www.sutd.edu.sg/epd/education/undergraduate/specialisation-tracks/self-directed-programme/#tabs'}}, vector=None, shard_key=None, order_value=None), ScoredPoint(id=248, version=0, score=0.61873907, payload={'text': ' information Careers at SUTD Connect with us Take a virtual campus tour 8 Somapah Rd, Singapore 487372 +65 6303 6600 +65 6303 6600 Email EPD Directory Social Media Facebook X Youtube Linkedin TikTok Instagram Contact SUTD Whistleblowing Policy Terms & Conditions Privacy Statement Copyright © 2011 – 2025 We use cookies to ensure you get the best experience on our website. By selecting “I agree”, you consent to our use of cookiesI agreeI decline', 'metadata': {'source': 'https://www.sutd.edu.sg/epd/education/undergraduate/specialisation-tracks/electrical-engineering/'}}, vector=None, shard_key=None, order_value=None), ScoredPoint(id=196, version=0, score=0.61508644, payload={'text': 'ses offered throughout SUTD, and discover the best fit for your interests. See more Useful information Careers at SUTD Connect with us Take a virtual campus tour 8 Somapah Rd, Singapore 487372 +65 6303 6600 +65 6303 6600 Email ASD Directory Social Media Facebook X Youtube Linkedin TikTok Instagram Contact SUTD Whistleblowing Policy Terms & Conditions Privacy Statement Copyright © 2011 – 2025 We use cookies to ensure you get the best experience on our website. By selecting “I agree”, you consent ', 'metadata': {'source': 'https://www.sutd.edu.sg/asd/education/undergraduate/courses'}}, vector=None, shard_key=None, order_value=None)]\n"
     ]
    }
   ],
   "source": [
    "query = \"what is sutd?\"\n",
    "query_embedding = vector_store.get_embeddings(query)\n",
    "results = vector_store.client.query_points(\n",
    "    collection_name=vector_store.collection_name,\n",
    "    query=query_embedding,\n",
    "    limit=5,\n",
    ")\n",
    "print(results)"
   ]
  }
 ],
 "metadata": {
  "kernelspec": {
   "display_name": ".venv",
   "language": "python",
   "name": "python3"
  },
  "language_info": {
   "codemirror_mode": {
    "name": "ipython",
    "version": 3
   },
   "file_extension": ".py",
   "mimetype": "text/x-python",
   "name": "python",
   "nbconvert_exporter": "python",
   "pygments_lexer": "ipython3",
   "version": "3.11.11"
  }
 },
 "nbformat": 4,
 "nbformat_minor": 2
}
