{
 "cells": [
  {
   "cell_type": "code",
   "execution_count": 1,
   "metadata": {},
   "outputs": [],
   "source": [
    "from qdrant_client import QdrantClient, models\n",
    "from app.config import settings as config\n",
    "from app.utils.utils import split_docs\n",
    "from app.web_loader.bs_loader import load_web_docs, urls\n",
    "from app.db.vector_store import VectorStore"
   ]
  },
  {
   "cell_type": "code",
   "execution_count": 2,
   "metadata": {},
   "outputs": [],
   "source": [
    "client = QdrantClient(config.qdrant_url, api_key=config.qdrant_api_key)"
   ]
  },
  {
   "cell_type": "code",
   "execution_count": 3,
   "metadata": {},
   "outputs": [
    {
     "data": {
      "text/plain": [
       "True"
      ]
     },
     "execution_count": 3,
     "metadata": {},
     "output_type": "execute_result"
    }
   ],
   "source": [
    "client.create_collection(\n",
    "    collection_name=\"sutd\",\n",
    "    vectors_config=models.VectorParams(\n",
    "        size=config.embeddings_dim, distance=models.Distance.COSINE\n",
    "    ),\n",
    ")"
   ]
  },
  {
   "cell_type": "code",
   "execution_count": 4,
   "metadata": {},
   "outputs": [],
   "source": [
    "# client.delete_collection(collection_name=\"sutd\")"
   ]
  },
  {
   "cell_type": "code",
   "execution_count": 5,
   "metadata": {},
   "outputs": [
    {
     "data": {
      "text/plain": [
       "CollectionsResponse(collections=[CollectionDescription(name='sutd')])"
      ]
     },
     "execution_count": 5,
     "metadata": {},
     "output_type": "execute_result"
    }
   ],
   "source": [
    "client.get_collections()"
   ]
  },
  {
   "cell_type": "code",
   "execution_count": 6,
   "metadata": {},
   "outputs": [],
   "source": [
    "docs = load_web_docs(urls)\n",
    "chunks = split_docs(docs)"
   ]
  },
  {
   "cell_type": "code",
   "execution_count": 7,
   "metadata": {},
   "outputs": [
    {
     "name": "stdout",
     "output_type": "stream",
     "text": [
      "Document(text='ousing Sports and recreation centre F&B and services Library About About OVERVIEW Design AI At a glance Diversity and inclusion Sustainability PEOPLE Leadership Board of Trustees President Emeritus Professorships Faculty MORE Happenings Careers at SUTD Partnering with SUTD On this page Popular searches quick links Discover SUTD The world’s first Design AI university Innovation @ SUTD AirXeed radiosonde AI @ SUTD Mustango – DALL-E for music Discover SUTD The world’s first Design AI university Pla', metadata={'source': 'https://www.sutd.edu.sg/'})\n"
     ]
    }
   ],
   "source": [
    "print(chunks[4])"
   ]
  },
  {
   "cell_type": "code",
   "execution_count": 8,
   "metadata": {},
   "outputs": [],
   "source": [
    "vector_store = VectorStore(config)\n",
    "document_ids = vector_store.add_documents(docs=chunks)\n",
    "\n",
    "# print(document_ids[:3])"
   ]
  },
  {
   "cell_type": "code",
   "execution_count": 9,
   "metadata": {},
   "outputs": [
    {
     "name": "stdout",
     "output_type": "stream",
     "text": [
      "Collection info: status=<CollectionStatus.GREEN: 'green'> optimizer_status=<OptimizersStatusOneOf.OK: 'ok'> vectors_count=None indexed_vectors_count=0 points_count=975 segments_count=2 config=CollectionConfig(params=CollectionParams(vectors=VectorParams(size=768, distance=<Distance.COSINE: 'Cosine'>, hnsw_config=None, quantization_config=None, on_disk=None, datatype=None, multivector_config=None), shard_number=1, sharding_method=None, replication_factor=1, write_consistency_factor=1, read_fan_out_factor=None, on_disk_payload=True, sparse_vectors=None), hnsw_config=HnswConfig(m=16, ef_construct=100, full_scan_threshold=10000, max_indexing_threads=0, on_disk=False, payload_m=None), optimizer_config=OptimizersConfig(deleted_threshold=0.2, vacuum_min_vector_number=1000, default_segment_number=0, max_segment_size=None, memmap_threshold=None, indexing_threshold=20000, flush_interval_sec=5, max_optimization_threads=None), wal_config=WalConfig(wal_capacity_mb=32, wal_segments_ahead=0), quantization_config=None, strict_mode_config=StrictModeConfig(enabled=False, max_query_limit=None, max_timeout=None, unindexed_filtering_retrieve=None, unindexed_filtering_update=None, search_max_hnsw_ef=None, search_allow_exact=None, search_max_oversampling=None, upsert_max_batchsize=None, max_collection_vector_size_bytes=None, read_rate_limit=None, write_rate_limit=None, max_collection_payload_size_bytes=None, filter_max_conditions=None, condition_max_size=None)) payload_schema={}\n",
      "Number of documents in vector store: count=975\n"
     ]
    }
   ],
   "source": [
    "collection_info = vector_store.client.get_collection(vector_store.collection_name)\n",
    "print(f\"Collection info: {collection_info}\")\n",
    "\n",
    "# Count the number of points in the collection\n",
    "point_count = vector_store.client.count(vector_store.collection_name)\n",
    "print(f\"Number of documents in vector store: {point_count}\")"
   ]
  },
  {
   "cell_type": "code",
   "execution_count": 10,
   "metadata": {},
   "outputs": [
    {
     "name": "stdout",
     "output_type": "stream",
     "text": [
      "points=[ScoredPoint(id=752, version=0, score=0.74369144, payload={'text': 'About - Singapore University of Technology and Design (SUTD) About Us | SUTD Academic calendar Alumni Faculty Partner with SUTD Resources Design AI Education Design AI Education STUDY Undergraduate Graduate Continuing education (SUTD Academy) 42 Singapore MORE Library Accreditation Cyber-Physical Learning Alliance Undergraduate courses PILLARS, CLUSTERS & PROGRAMMES ASD Architecture and Sustainable Design DAI Design and Artificial Intelligence EPD Engineering Product Development ESD Engineering ', 'metadata': {'source': 'https://www.sutd.edu.sg/about'}}, vector=None, shard_key=None, order_value=None), ScoredPoint(id=0, version=0, score=0.7236957, payload={'text': 'Home - Singapore University of Technology and Design (SUTD) Singapore University of Technology and Design | SUTD Academic calendar Alumni Faculty Partner with SUTD Resources Design AI Education Design AI Education STUDY Undergraduate Graduate Continuing education (SUTD Academy) 42 Singapore MORE Library Accreditation Cyber-Physical Learning Alliance Undergraduate courses PILLARS, CLUSTERS & PROGRAMMES ASD Architecture and Sustainable Design DAI Design and Artificial Intelligence EPD Engineering ', 'metadata': {'source': 'https://www.sutd.edu.sg/'}}, vector=None, shard_key=None, order_value=None), ScoredPoint(id=960, version=0, score=0.7236957, payload={'text': 'Home - Singapore University of Technology and Design (SUTD) Singapore University of Technology and Design | SUTD Academic calendar Alumni Faculty Partner with SUTD Resources Design AI Education Design AI Education STUDY Undergraduate Graduate Continuing education (SUTD Academy) 42 Singapore MORE Library Accreditation Cyber-Physical Learning Alliance Undergraduate courses PILLARS, CLUSTERS & PROGRAMMES ASD Architecture and Sustainable Design DAI Design and Artificial Intelligence EPD Engineering ', 'metadata': {'source': 'https://www.sutd.edu.sg/faq/what-is-the-minimum-cap-score-for-admissions'}}, vector=None, shard_key=None, order_value=None), ScoredPoint(id=326, version=0, score=0.71293217, payload={'text': 'Research - Singapore University of Technology and Design (SUTD) Research | SUTD Academic calendar Alumni Faculty Partner with SUTD Resources Design AI Education Design AI Education STUDY Undergraduate Graduate Continuing education (SUTD Academy) 42 Singapore MORE Library Accreditation Cyber-Physical Learning Alliance Undergraduate courses PILLARS, CLUSTERS & PROGRAMMES ASD Architecture and Sustainable Design DAI Design and Artificial Intelligence EPD Engineering Product Development ESD Engineeri', 'metadata': {'source': 'https://www.sutd.edu.sg/research'}}, vector=None, shard_key=None, order_value=None), ScoredPoint(id=741, version=0, score=0.7123277, payload={'text': 'Dining - Singapore University of Technology and Design (SUTD) F&B and Retail Services | SUTD Academic calendar Alumni Faculty Partner with SUTD Resources Design AI Education Design AI Education STUDY Undergraduate Graduate Continuing education (SUTD Academy) 42 Singapore MORE Library Accreditation Cyber-Physical Learning Alliance Undergraduate courses PILLARS, CLUSTERS & PROGRAMMES ASD Architecture and Sustainable Design DAI Design and Artificial Intelligence EPD Engineering Product Development ', 'metadata': {'source': 'https://www.sutd.edu.sg/campus-life/fnb-and-services/dining'}}, vector=None, shard_key=None, order_value=None)]\n"
     ]
    }
   ],
   "source": [
    "query = \"what is sutd?\"\n",
    "query_embedding = vector_store.get_embeddings(query)\n",
    "results = vector_store.client.query_points(\n",
    "    collection_name=vector_store.collection_name,\n",
    "    query=query_embedding,\n",
    "    limit=5,\n",
    ")\n",
    "print(results)"
   ]
  },
  {
   "cell_type": "code",
   "execution_count": null,
   "metadata": {},
   "outputs": [],
   "source": []
  }
 ],
 "metadata": {
  "kernelspec": {
   "display_name": ".venv",
   "language": "python",
   "name": "python3"
  },
  "language_info": {
   "codemirror_mode": {
    "name": "ipython",
    "version": 3
   },
   "file_extension": ".py",
   "mimetype": "text/x-python",
   "name": "python",
   "nbconvert_exporter": "python",
   "pygments_lexer": "ipython3",
   "version": "3.11.11"
  }
 },
 "nbformat": 4,
 "nbformat_minor": 2
}
